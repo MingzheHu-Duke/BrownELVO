{
  "nbformat": 4,
  "nbformat_minor": 0,
  "metadata": {
    "colab": {
      "name": "BrownDataEDA.ipynb",
      "provenance": [],
      "collapsed_sections": [],
      "authorship_tag": "ABX9TyOglpP0wpQasuk+k18OlVxP",
      "include_colab_link": true
    },
    "kernelspec": {
      "name": "python3",
      "display_name": "Python 3"
    }
  },
  "cells": [
    {
      "cell_type": "markdown",
      "metadata": {
        "id": "view-in-github",
        "colab_type": "text"
      },
      "source": [
        "<a href=\"https://colab.research.google.com/github/MingzheHu-Duke/BrownELVO/blob/main/BrownDataEDA.ipynb\" target=\"_parent\"><img src=\"https://colab.research.google.com/assets/colab-badge.svg\" alt=\"Open In Colab\"/></a>"
      ]
    },
    {
      "cell_type": "markdown",
      "metadata": {
        "id": "WhtUEy4rNvNM"
      },
      "source": [
        "# Brown Project Exploratory Data Analysis"
      ]
    },
    {
      "cell_type": "markdown",
      "metadata": {
        "id": "olNDseAsIDG3"
      },
      "source": [
        "***The demographic data distribution we use for the Passes and TICI prediction***"
      ]
    },
    {
      "cell_type": "code",
      "metadata": {
        "colab": {
          "base_uri": "https://localhost:8080/",
          "height": 427
        },
        "id": "VLep5TK1J68x",
        "outputId": "c3f269c5-5938-4c12-c0ee-bda16d9c95f6"
      },
      "source": [
        "import chardet\n",
        "import pandas as pd\n",
        "\n",
        "with open('/content/CS project copied final_MIPs.csv', 'rb') as f:\n",
        "    result = chardet.detect(f.read())  # or readline if the file is large\n",
        "\n",
        "\n",
        "df = pd.read_csv('/content/CS project copied final_MIPs.csv', encoding=result['encoding'])\n",
        "df.head(10)"
      ],
      "execution_count": 2,
      "outputs": [
        {
          "output_type": "execute_result",
          "data": {
            "text/html": [
              "<div>\n",
              "<style scoped>\n",
              "    .dataframe tbody tr th:only-of-type {\n",
              "        vertical-align: middle;\n",
              "    }\n",
              "\n",
              "    .dataframe tbody tr th {\n",
              "        vertical-align: top;\n",
              "    }\n",
              "\n",
              "    .dataframe thead th {\n",
              "        text-align: right;\n",
              "    }\n",
              "</style>\n",
              "<table border=\"1\" class=\"dataframe\">\n",
              "  <thead>\n",
              "    <tr style=\"text-align: right;\">\n",
              "      <th></th>\n",
              "      <th>_ShamAccessionNumber</th>\n",
              "      <th>occlusion or not</th>\n",
              "      <th>Old Status</th>\n",
              "      <th>New Status</th>\n",
              "      <th>Difference</th>\n",
              "      <th>Change direction</th>\n",
              "      <th>vessels</th>\n",
              "      <th>Location</th>\n",
              "      <th>pass  times (R/L)</th>\n",
              "      <th>final TICI score R/L</th>\n",
              "      <th>Gender</th>\n",
              "      <th>Age</th>\n",
              "    </tr>\n",
              "  </thead>\n",
              "  <tbody>\n",
              "    <tr>\n",
              "      <th>0</th>\n",
              "      <td>c27853274b364772eda63f866eb711ff</td>\n",
              "      <td>occlusion</td>\n",
              "      <td>chronic</td>\n",
              "      <td>chronic</td>\n",
              "      <td>0</td>\n",
              "      <td>NaN</td>\n",
              "      <td>Left M1</td>\n",
              "      <td>M1</td>\n",
              "      <td>1</td>\n",
              "      <td>3</td>\n",
              "      <td>Female</td>\n",
              "      <td>41</td>\n",
              "    </tr>\n",
              "    <tr>\n",
              "      <th>1</th>\n",
              "      <td>df821cfbcc8e2842d1be2ae7a7acb070</td>\n",
              "      <td>occlusion</td>\n",
              "      <td>chronic</td>\n",
              "      <td>chronic</td>\n",
              "      <td>0</td>\n",
              "      <td>NaN</td>\n",
              "      <td>Proximal ICA and  left M1 segment</td>\n",
              "      <td>3</td>\n",
              "      <td>2</td>\n",
              "      <td>3</td>\n",
              "      <td>Male</td>\n",
              "      <td>90</td>\n",
              "    </tr>\n",
              "    <tr>\n",
              "      <th>2</th>\n",
              "      <td>807ea8a7b4c1e3e2ed992c112a4a49f7</td>\n",
              "      <td>occlusion</td>\n",
              "      <td>chronic</td>\n",
              "      <td>chronic</td>\n",
              "      <td>0</td>\n",
              "      <td>NaN</td>\n",
              "      <td>Distal left M1</td>\n",
              "      <td>M1</td>\n",
              "      <td>1</td>\n",
              "      <td>2b</td>\n",
              "      <td>Female</td>\n",
              "      <td>72</td>\n",
              "    </tr>\n",
              "    <tr>\n",
              "      <th>3</th>\n",
              "      <td>f937ee8cd2a9b6aac98ee53b8afbb159</td>\n",
              "      <td>occlusion</td>\n",
              "      <td>acute</td>\n",
              "      <td>acute</td>\n",
              "      <td>0</td>\n",
              "      <td>NaN</td>\n",
              "      <td>right MCA</td>\n",
              "      <td>MCA</td>\n",
              "      <td>2</td>\n",
              "      <td>2a</td>\n",
              "      <td>Male</td>\n",
              "      <td>78</td>\n",
              "    </tr>\n",
              "    <tr>\n",
              "      <th>4</th>\n",
              "      <td>e524190af9b2ec79130e1d4eb8423150</td>\n",
              "      <td>occlusion</td>\n",
              "      <td>acute</td>\n",
              "      <td>acute</td>\n",
              "      <td>0</td>\n",
              "      <td>NaN</td>\n",
              "      <td>the right internal carotid artery from caroti...</td>\n",
              "      <td>5</td>\n",
              "      <td>2</td>\n",
              "      <td>3</td>\n",
              "      <td>Male</td>\n",
              "      <td>55</td>\n",
              "    </tr>\n",
              "    <tr>\n",
              "      <th>5</th>\n",
              "      <td>539d3303edbcb17fe92cb16984df108c</td>\n",
              "      <td>occlusion</td>\n",
              "      <td>chronic</td>\n",
              "      <td>chronic</td>\n",
              "      <td>0</td>\n",
              "      <td>NaN</td>\n",
              "      <td>the proximal M1 segment of the right middle ce...</td>\n",
              "      <td>M1</td>\n",
              "      <td>1</td>\n",
              "      <td>2c</td>\n",
              "      <td>Male</td>\n",
              "      <td>60</td>\n",
              "    </tr>\n",
              "    <tr>\n",
              "      <th>6</th>\n",
              "      <td>304b90f12627b2bef4aad08c409cca2e</td>\n",
              "      <td>occlusion</td>\n",
              "      <td>chronic</td>\n",
              "      <td>chronic</td>\n",
              "      <td>0</td>\n",
              "      <td>NaN</td>\n",
              "      <td>the proximal left ICA</td>\n",
              "      <td>ICA</td>\n",
              "      <td>1</td>\n",
              "      <td>3</td>\n",
              "      <td>Male</td>\n",
              "      <td>74</td>\n",
              "    </tr>\n",
              "    <tr>\n",
              "      <th>7</th>\n",
              "      <td>30c8cc0878f41931471cd68820b178b7</td>\n",
              "      <td>occlusion</td>\n",
              "      <td>chronic</td>\n",
              "      <td>chronic</td>\n",
              "      <td>0</td>\n",
              "      <td>NaN</td>\n",
              "      <td>the distal right M1</td>\n",
              "      <td>M1</td>\n",
              "      <td>1</td>\n",
              "      <td>3</td>\n",
              "      <td>Male</td>\n",
              "      <td>86</td>\n",
              "    </tr>\n",
              "    <tr>\n",
              "      <th>8</th>\n",
              "      <td>d10c4da15ed88090185fede6715487d2</td>\n",
              "      <td>occlusion</td>\n",
              "      <td>chronic</td>\n",
              "      <td>chronic</td>\n",
              "      <td>0</td>\n",
              "      <td>NaN</td>\n",
              "      <td>the left internal carotid artery up to the A1/...</td>\n",
              "      <td>3</td>\n",
              "      <td>2</td>\n",
              "      <td>2b</td>\n",
              "      <td>Male</td>\n",
              "      <td>65</td>\n",
              "    </tr>\n",
              "    <tr>\n",
              "      <th>9</th>\n",
              "      <td>ef5364e9ae33e307bc42e2ca99f3f628</td>\n",
              "      <td>occlusion</td>\n",
              "      <td>chronic</td>\n",
              "      <td>chronic</td>\n",
              "      <td>0</td>\n",
              "      <td>NaN</td>\n",
              "      <td>Distal left M1</td>\n",
              "      <td>M1</td>\n",
              "      <td>1</td>\n",
              "      <td>2c</td>\n",
              "      <td>Male</td>\n",
              "      <td>48</td>\n",
              "    </tr>\n",
              "  </tbody>\n",
              "</table>\n",
              "</div>"
            ],
            "text/plain": [
              "               _ShamAccessionNumber occlusion or not  ...  Gender Age\n",
              "0  c27853274b364772eda63f866eb711ff        occlusion  ...  Female  41\n",
              "1  df821cfbcc8e2842d1be2ae7a7acb070        occlusion  ...    Male  90\n",
              "2  807ea8a7b4c1e3e2ed992c112a4a49f7        occlusion  ...  Female  72\n",
              "3  f937ee8cd2a9b6aac98ee53b8afbb159        occlusion  ...    Male  78\n",
              "4  e524190af9b2ec79130e1d4eb8423150        occlusion  ...    Male  55\n",
              "5  539d3303edbcb17fe92cb16984df108c        occlusion  ...    Male  60\n",
              "6  304b90f12627b2bef4aad08c409cca2e        occlusion  ...    Male  74\n",
              "7  30c8cc0878f41931471cd68820b178b7        occlusion  ...    Male  86\n",
              "8  d10c4da15ed88090185fede6715487d2        occlusion  ...    Male  65\n",
              "9  ef5364e9ae33e307bc42e2ca99f3f628        occlusion  ...    Male  48\n",
              "\n",
              "[10 rows x 12 columns]"
            ]
          },
          "metadata": {
            "tags": []
          },
          "execution_count": 2
        }
      ]
    },
    {
      "cell_type": "code",
      "metadata": {
        "colab": {
          "base_uri": "https://localhost:8080/",
          "height": 0
        },
        "id": "YEXvXnWyInHB",
        "outputId": "08dde792-a9c0-4473-bd06-bd51453485b2"
      },
      "source": [
        "print(\"The Demographic information we used are:\")\n",
        "print(list(df.columns))"
      ],
      "execution_count": 3,
      "outputs": [
        {
          "output_type": "stream",
          "text": [
            "The Demographic information we used are:\n",
            "['_ShamAccessionNumber', 'occlusion or not', 'Old Status', 'New Status', 'Difference', 'Change direction', 'vessels', 'Location', 'pass  times (R/L)', 'final TICI score R/L', 'Gender', 'Age']\n"
          ],
          "name": "stdout"
        }
      ]
    },
    {
      "cell_type": "code",
      "metadata": {
        "colab": {
          "base_uri": "https://localhost:8080/",
          "height": 0
        },
        "id": "rOCPyo8DKppl",
        "outputId": "762afd19-3c17-4de7-93b0-59a48872eb8a"
      },
      "source": [
        "print(\"The number of patient data we used are:\")\n",
        "print(len(df.index))"
      ],
      "execution_count": 4,
      "outputs": [
        {
          "output_type": "stream",
          "text": [
            "The number of patient data we used are:\n",
            "389\n"
          ],
          "name": "stdout"
        }
      ]
    },
    {
      "cell_type": "code",
      "metadata": {
        "colab": {
          "base_uri": "https://localhost:8080/",
          "height": 370
        },
        "id": "YA6Xr7HKK-2Y",
        "outputId": "57826672-e051-4b9e-b35a-efa2a9926c71"
      },
      "source": [
        "print(\"The number of different Old Status\")\n",
        "print(df[\"Old Status\"].value_counts())\n",
        "\n",
        "# Print the histogram of the old_status\n",
        "import seaborn as sns\n",
        "sns.set_theme(style=\"darkgrid\")\n",
        "sns.countplot(data=df, x=\"Old Status\")"
      ],
      "execution_count": 8,
      "outputs": [
        {
          "output_type": "stream",
          "text": [
            "The number of different Old Status\n",
            "chronic    230\n",
            "acute       94\n",
            "Name: Old Status, dtype: int64\n"
          ],
          "name": "stdout"
        },
        {
          "output_type": "execute_result",
          "data": {
            "text/plain": [
              "<matplotlib.axes._subplots.AxesSubplot at 0x7f153ee3a790>"
            ]
          },
          "metadata": {
            "tags": []
          },
          "execution_count": 8
        },
        {
          "output_type": "display_data",
          "data": {
            "image/png": "[encoded data removed]",
            "text/plain": [
              "<Figure size 432x288 with 1 Axes>"
            ]
          },
          "metadata": {
            "tags": []
          }
        }
      ]
    },
    {
      "cell_type": "code",
      "metadata": {
        "colab": {
          "base_uri": "https://localhost:8080/",
          "height": 370
        },
        "id": "tyPVDcOmMfA_",
        "outputId": "1c3c7306-6340-441a-9dfe-e7d7ca0d2de1"
      },
      "source": [
        "print(\"The number of different new status\")\n",
        "print(df[\"New Status\"].value_counts())\n",
        "\n",
        "sns.set_theme(style=\"darkgrid\")\n",
        "sns.countplot(data=df, x=\"New Status\")"
      ],
      "execution_count": 9,
      "outputs": [
        {
          "output_type": "stream",
          "text": [
            "The number of different new status\n",
            "chronic    230\n",
            "acute       94\n",
            "Name: New Status, dtype: int64\n"
          ],
          "name": "stdout"
        },
        {
          "output_type": "execute_result",
          "data": {
            "text/plain": [
              "<matplotlib.axes._subplots.AxesSubplot at 0x7f153edfc490>"
            ]
          },
          "metadata": {
            "tags": []
          },
          "execution_count": 9
        },
        {
          "output_type": "display_data",
          "data": {
            "image/png": "[encoded data removed]",
            "text/plain": [
              "<Figure size 432x288 with 1 Axes>"
            ]
          },
          "metadata": {
            "tags": []
          }
        }
      ]
    },
    {
      "cell_type": "code",
      "metadata": {
        "colab": {
          "base_uri": "https://localhost:8080/",
          "height": 608
        },
        "id": "VhAOxUZXHDpP",
        "outputId": "2688dc6d-3f3e-42a0-f205-1d75ede087f0"
      },
      "source": [
        "print(\"The number of different Locations\")\n",
        "print(df[\"Occlusion\"].value_counts())\n",
        "\n",
        "# Print the histogram of the Locations\n",
        "import seaborn as sns\n",
        "sns.set_theme(style=\"darkgrid\")\n",
        "sns.countplot(data=df, x=\"Location\")"
      ],
      "execution_count": 11,
      "outputs": [
        {
          "output_type": "stream",
          "text": [
            "The number of different Locations\n",
            "M1          152\n",
            "M2           52\n",
            "ICA          44\n",
            "3            32\n",
            "1            11\n",
            "MCA           8\n",
            "5             8\n",
            "10            5\n",
            "Basilar       3\n",
            "VA            2\n",
            "4             2\n",
            "7             1\n",
            "9             1\n",
            "2             1\n",
            "Basilar       1\n",
            "CCA           1\n",
            "Name: Location, dtype: int64\n"
          ],
          "name": "stdout"
        },
        {
          "output_type": "execute_result",
          "data": {
            "text/plain": [
              "<matplotlib.axes._subplots.AxesSubplot at 0x7f153ed9e790>"
            ]
          },
          "metadata": {
            "tags": []
          },
          "execution_count": 11
        },
        {
          "output_type": "display_data",
          "data": {
            "image/png": "[encoded data removed]",
            "text/plain": [
              "<Figure size 432x288 with 1 Axes>"
            ]
          },
          "metadata": {
            "tags": []
          }
        }
      ]
    },
    {
      "cell_type": "code",
      "metadata": {
        "colab": {
          "base_uri": "https://localhost:8080/",
          "height": 370
        },
        "id": "4VRbDvfcNBOg",
        "outputId": "1a0803a0-e93c-4bd8-8aef-67e3d24f8b87"
      },
      "source": [
        "print(\"The number of different values of Gender\")\n",
        "print(df[\"Gender\"].value_counts())\n",
        "\n",
        "sns.set_theme(style=\"darkgrid\")\n",
        "sns.countplot(data=df, x=\"Gender\")"
      ],
      "execution_count": 12,
      "outputs": [
        {
          "output_type": "stream",
          "text": [
            "The number of different values of Gender\n",
            "Female    196\n",
            "Male      193\n",
            "Name: Gender, dtype: int64\n"
          ],
          "name": "stdout"
        },
        {
          "output_type": "execute_result",
          "data": {
            "text/plain": [
              "<matplotlib.axes._subplots.AxesSubplot at 0x7f153eb8f990>"
            ]
          },
          "metadata": {
            "tags": []
          },
          "execution_count": 12
        },
        {
          "output_type": "display_data",
          "data": {
            "image/png": "[encoded data removed]",
            "text/plain": [
              "<Figure size 432x288 with 1 Axes>"
            ]
          },
          "metadata": {
            "tags": []
          }
        }
      ]
    },
    {
      "cell_type": "code",
      "metadata": {
        "colab": {
          "base_uri": "https://localhost:8080/",
          "height": 319
        },
        "id": "xK10r9VANdmO",
        "outputId": "33b736f8-042c-44e1-84cc-e69f9d2f7202"
      },
      "source": [
        "print(\"The histogram of patient age\")\n",
        "sns.set_theme(style=\"darkgrid\")\n",
        "sns.histplot(data=df, x=\"Age\")"
      ],
      "execution_count": 13,
      "outputs": [
        {
          "output_type": "stream",
          "text": [
            "The histogram of patient age\n"
          ],
          "name": "stdout"
        },
        {
          "output_type": "execute_result",
          "data": {
            "text/plain": [
              "<matplotlib.axes._subplots.AxesSubplot at 0x7f153eb61590>"
            ]
          },
          "metadata": {
            "tags": []
          },
          "execution_count": 13
        },
        {
          "output_type": "display_data",
          "data": {
            "image/png": "[encoded data removed]",
            "text/plain": [
              "<Figure size 432x288 with 1 Axes>"
            ]
          },
          "metadata": {
            "tags": []
          }
        }
      ]
    },
    {
      "cell_type": "code",
      "metadata": {
        "colab": {
          "base_uri": "https://localhost:8080/",
          "height": 265
        },
        "id": "EFGSR4b2OJKj",
        "outputId": "a892e0db-d2f7-40ef-bcf1-0bff4325913f"
      },
      "source": [
        "sns.violinplot(data=df, y=\"Age\")"
      ],
      "execution_count": 14,
      "outputs": [
        {
          "output_type": "execute_result",
          "data": {
            "text/plain": [
              "<matplotlib.axes._subplots.AxesSubplot at 0x7f153d7f8a50>"
            ]
          },
          "metadata": {
            "tags": []
          },
          "execution_count": 14
        },
        {
          "output_type": "display_data",
          "data": {
            "image/png": "[encoded data removed]",
            "text/plain": [
              "<Figure size 432x288 with 1 Axes>"
            ]
          },
          "metadata": {
            "tags": []
          }
        }
      ]
    },
    {
      "cell_type": "code",
      "metadata": {
        "colab": {
          "base_uri": "https://localhost:8080/",
          "height": 866
        },
        "id": "XqxqZWOGIf4n",
        "outputId": "755d4826-7854-4b42-eb44-3c67a65fca6b"
      },
      "source": [
        "print(\"The number of different Passes\")\n",
        "print(df[\"pass  times (R/L)\"].value_counts())\n",
        "\n",
        "# Print the histogram of the Passes\n",
        "import seaborn as sns\n",
        "sns.set_theme(style=\"darkgrid\")\n",
        "import matplotlib.pyplot as plt\n",
        "plt.figure(figsize=(20, 10))\n",
        "sns.countplot(data=df, x=\"pass  times (R/L)\")"
      ],
      "execution_count": 33,
      "outputs": [
        {
          "output_type": "stream",
          "text": [
            "The number of different Passes\n",
            "1                                238\n",
            "2                                 90\n",
            "3                                 40\n",
            "4                                  6\n",
            "5                                  4\n",
            "0                                  4\n",
            "6                                  2\n",
            "4/1                                1\n",
            "1/7                                1\n",
            "7                                  1\n",
            "11.18: 1; 11:18: 2-->multiple      1\n",
            "3/1                                1\n",
            "Name: pass  times (R/L), dtype: int64\n"
          ],
          "name": "stdout"
        },
        {
          "output_type": "execute_result",
          "data": {
            "text/plain": [
              "<matplotlib.axes._subplots.AxesSubplot at 0x7f153b35dc10>"
            ]
          },
          "metadata": {
            "tags": []
          },
          "execution_count": 33
        },
        {
          "output_type": "display_data",
          "data": {
            "image/png": "[encoded data removed]",
            "text/plain": [
              "<Figure size 1440x720 with 1 Axes>"
            ]
          },
          "metadata": {
            "tags": []
          }
        }
      ]
    },
    {
      "cell_type": "markdown",
      "metadata": {
        "id": "9Ns6EZe7KI7J"
      },
      "source": [
        "***The demographic data distribution we use for the mRs***"
      ]
    },
    {
      "cell_type": "code",
      "metadata": {
        "colab": {
          "base_uri": "https://localhost:8080/",
          "height": 410
        },
        "id": "sAt3kTcvKP4w",
        "outputId": "208bfe46-6e44-4bea-c1a2-1f2bc1de8a51"
      },
      "source": [
        "import chardet\n",
        "import pandas as pd\n",
        "\n",
        "with open('brown_elvo_cleaned_2_23.csv', 'rb') as f:\n",
        "    result = chardet.detect(f.read())  # or readline if the file is large\n",
        "\n",
        "\n",
        "df_m = pd.read_csv('brown_elvo_cleaned_2_23.csv', encoding=result['encoding'])\n",
        "df_m.head(10)"
      ],
      "execution_count": 36,
      "outputs": [
        {
          "output_type": "execute_result",
          "data": {
            "text/html": [
              "<div>\n",
              "<style scoped>\n",
              "    .dataframe tbody tr th:only-of-type {\n",
              "        vertical-align: middle;\n",
              "    }\n",
              "\n",
              "    .dataframe tbody tr th {\n",
              "        vertical-align: top;\n",
              "    }\n",
              "\n",
              "    .dataframe thead th {\n",
              "        text-align: right;\n",
              "    }\n",
              "</style>\n",
              "<table border=\"1\" class=\"dataframe\">\n",
              "  <thead>\n",
              "    <tr style=\"text-align: right;\">\n",
              "      <th></th>\n",
              "      <th>Accession_Number</th>\n",
              "      <th>occlusion_or_not</th>\n",
              "      <th>Old_mRS</th>\n",
              "      <th>30_Days_mRs</th>\n",
              "      <th>Acute_or_chronic</th>\n",
              "      <th>Patient_Sex</th>\n",
              "      <th>Patient_Age</th>\n",
              "      <th>X_ShamAccessionNumber</th>\n",
              "      <th>vessels</th>\n",
              "      <th>Location</th>\n",
              "      <th>Passes_time</th>\n",
              "    </tr>\n",
              "  </thead>\n",
              "  <tbody>\n",
              "    <tr>\n",
              "      <th>0</th>\n",
              "      <td>52818203</td>\n",
              "      <td>occlusion</td>\n",
              "      <td>1</td>\n",
              "      <td>0</td>\n",
              "      <td>chronic</td>\n",
              "      <td>Male</td>\n",
              "      <td>77</td>\n",
              "      <td>7a603e8495ee6583a204a2c0db629608</td>\n",
              "      <td>Chronic left M1 occlusion</td>\n",
              "      <td>M1</td>\n",
              "      <td>NaN</td>\n",
              "    </tr>\n",
              "    <tr>\n",
              "      <th>1</th>\n",
              "      <td>53195738</td>\n",
              "      <td>occlusion</td>\n",
              "      <td>1</td>\n",
              "      <td>1</td>\n",
              "      <td>acute</td>\n",
              "      <td>Male</td>\n",
              "      <td>52</td>\n",
              "      <td>2f01364ffa79d159ef9a106c89437197</td>\n",
              "      <td>right internal carotid artery</td>\n",
              "      <td>ICA</td>\n",
              "      <td>NaN</td>\n",
              "    </tr>\n",
              "    <tr>\n",
              "      <th>2</th>\n",
              "      <td>52990262</td>\n",
              "      <td>occlusion</td>\n",
              "      <td>4</td>\n",
              "      <td>3</td>\n",
              "      <td>chronic</td>\n",
              "      <td>Male</td>\n",
              "      <td>69</td>\n",
              "      <td>65397fc8c232d46a463cda07f4151607</td>\n",
              "      <td>M1 segment left MCA.\\r\\n</td>\n",
              "      <td>M1</td>\n",
              "      <td>NaN</td>\n",
              "    </tr>\n",
              "    <tr>\n",
              "      <th>3</th>\n",
              "      <td>53277488</td>\n",
              "      <td>occlusion</td>\n",
              "      <td>2</td>\n",
              "      <td>2</td>\n",
              "      <td>chronic</td>\n",
              "      <td>Female</td>\n",
              "      <td>54</td>\n",
              "      <td>391ae8eb152bbe38907c6fd18200e9a1</td>\n",
              "      <td>basilar artery and right vertebral artery</td>\n",
              "      <td>10</td>\n",
              "      <td>NaN</td>\n",
              "    </tr>\n",
              "    <tr>\n",
              "      <th>4</th>\n",
              "      <td>51080603</td>\n",
              "      <td>occlusion</td>\n",
              "      <td>5</td>\n",
              "      <td>3</td>\n",
              "      <td>chronic</td>\n",
              "      <td>Male</td>\n",
              "      <td>78</td>\n",
              "      <td>d8f857bbd5b0288bc97e9786ddf461a9</td>\n",
              "      <td>M1 segment of the right MCA</td>\n",
              "      <td>NaN</td>\n",
              "      <td>NaN</td>\n",
              "    </tr>\n",
              "    <tr>\n",
              "      <th>5</th>\n",
              "      <td>51725881</td>\n",
              "      <td>occlusion</td>\n",
              "      <td>5</td>\n",
              "      <td>5</td>\n",
              "      <td>chronic</td>\n",
              "      <td>Female</td>\n",
              "      <td>80</td>\n",
              "      <td>88f22b021e63399224cc47876e3d00b4</td>\n",
              "      <td>basilar artery</td>\n",
              "      <td>Basilar</td>\n",
              "      <td>NaN</td>\n",
              "    </tr>\n",
              "    <tr>\n",
              "      <th>6</th>\n",
              "      <td>51842813</td>\n",
              "      <td>occlusion</td>\n",
              "      <td>1</td>\n",
              "      <td>1</td>\n",
              "      <td>chronic</td>\n",
              "      <td>Female</td>\n",
              "      <td>83</td>\n",
              "      <td>a2ae5603c6e9d1b23996631da54b68ec</td>\n",
              "      <td>Dominant right vertebral artery with chronic d...</td>\n",
              "      <td>10</td>\n",
              "      <td>NaN</td>\n",
              "    </tr>\n",
              "    <tr>\n",
              "      <th>7</th>\n",
              "      <td>51998425</td>\n",
              "      <td>occlusion</td>\n",
              "      <td>2</td>\n",
              "      <td>6</td>\n",
              "      <td>acute</td>\n",
              "      <td>Female</td>\n",
              "      <td>71</td>\n",
              "      <td>c58c8ede2bda2a56b944086a105cc0cf</td>\n",
              "      <td>distal right vertebral and basilar arteries</td>\n",
              "      <td>NaN</td>\n",
              "      <td>NaN</td>\n",
              "    </tr>\n",
              "    <tr>\n",
              "      <th>8</th>\n",
              "      <td>52446383</td>\n",
              "      <td>occlusion</td>\n",
              "      <td>1</td>\n",
              "      <td>1</td>\n",
              "      <td>chronic</td>\n",
              "      <td>Female</td>\n",
              "      <td>66</td>\n",
              "      <td>dc510c1b362b251e91f776b8e6393791</td>\n",
              "      <td>right cavernous internal carotid artery.    \\r\\n</td>\n",
              "      <td>10</td>\n",
              "      <td>NaN</td>\n",
              "    </tr>\n",
              "    <tr>\n",
              "      <th>9</th>\n",
              "      <td>52589070</td>\n",
              "      <td>occlusion</td>\n",
              "      <td>2</td>\n",
              "      <td>6</td>\n",
              "      <td>acute</td>\n",
              "      <td>Female</td>\n",
              "      <td>68</td>\n",
              "      <td>ce5fd5671471564489d67f3b689c8eb7</td>\n",
              "      <td>left M2 occlusion</td>\n",
              "      <td>M2</td>\n",
              "      <td>NaN</td>\n",
              "    </tr>\n",
              "  </tbody>\n",
              "</table>\n",
              "</div>"
            ],
            "text/plain": [
              "   Accession_Number occlusion_or_not  ...  Location  Passes_time\n",
              "0          52818203        occlusion  ...        M1          NaN\n",
              "1          53195738        occlusion  ...       ICA          NaN\n",
              "2          52990262        occlusion  ...        M1          NaN\n",
              "3          53277488        occlusion  ...        10          NaN\n",
              "4          51080603        occlusion  ...       NaN          NaN\n",
              "5          51725881        occlusion  ...  Basilar           NaN\n",
              "6          51842813        occlusion  ...        10          NaN\n",
              "7          51998425        occlusion  ...       NaN          NaN\n",
              "8          52446383        occlusion  ...        10          NaN\n",
              "9          52589070        occlusion  ...        M2          NaN\n",
              "\n",
              "[10 rows x 11 columns]"
            ]
          },
          "metadata": {
            "tags": []
          },
          "execution_count": 36
        }
      ]
    },
    {
      "cell_type": "code",
      "metadata": {
        "id": "rY1LUn0mK1Z8"
      },
      "source": [
        "df = df[\"_ShamAccessionNumber\"]"
      ],
      "execution_count": 38,
      "outputs": []
    },
    {
      "cell_type": "code",
      "metadata": {
        "colab": {
          "base_uri": "https://localhost:8080/",
          "height": 634
        },
        "id": "ReGwWkewLK58",
        "outputId": "9552bbe5-0780-4124-9283-1cc4c3b3662f"
      },
      "source": [
        "df_mrs = df_m.merge(df, how=\"inner\", left_on=\"X_ShamAccessionNumber\", right_on=\"_ShamAccessionNumber\")\n",
        "df_mrs.head(10)"
      ],
      "execution_count": 41,
      "outputs": [
        {
          "output_type": "execute_result",
          "data": {
            "text/html": [
              "<div>\n",
              "<style scoped>\n",
              "    .dataframe tbody tr th:only-of-type {\n",
              "        vertical-align: middle;\n",
              "    }\n",
              "\n",
              "    .dataframe tbody tr th {\n",
              "        vertical-align: top;\n",
              "    }\n",
              "\n",
              "    .dataframe thead th {\n",
              "        text-align: right;\n",
              "    }\n",
              "</style>\n",
              "<table border=\"1\" class=\"dataframe\">\n",
              "  <thead>\n",
              "    <tr style=\"text-align: right;\">\n",
              "      <th></th>\n",
              "      <th>Accession_Number</th>\n",
              "      <th>occlusion_or_not</th>\n",
              "      <th>Old_mRS</th>\n",
              "      <th>30_Days_mRs</th>\n",
              "      <th>Acute_or_chronic</th>\n",
              "      <th>Patient_Sex</th>\n",
              "      <th>Patient_Age</th>\n",
              "      <th>X_ShamAccessionNumber</th>\n",
              "      <th>vessels</th>\n",
              "      <th>Location</th>\n",
              "      <th>Passes_time</th>\n",
              "      <th>_ShamAccessionNumber</th>\n",
              "    </tr>\n",
              "  </thead>\n",
              "  <tbody>\n",
              "    <tr>\n",
              "      <th>0</th>\n",
              "      <td>52940184</td>\n",
              "      <td>occlusion</td>\n",
              "      <td>4</td>\n",
              "      <td>3</td>\n",
              "      <td>acute</td>\n",
              "      <td>Male</td>\n",
              "      <td>68</td>\n",
              "      <td>4f5e48ee2bda1760048e9e24faca6be9</td>\n",
              "      <td>Left internal carotid</td>\n",
              "      <td>NaN</td>\n",
              "      <td>1</td>\n",
              "      <td>4f5e48ee2bda1760048e9e24faca6be9</td>\n",
              "    </tr>\n",
              "    <tr>\n",
              "      <th>1</th>\n",
              "      <td>52978353</td>\n",
              "      <td>occlusion</td>\n",
              "      <td>4</td>\n",
              "      <td>4</td>\n",
              "      <td>chronic</td>\n",
              "      <td>Male</td>\n",
              "      <td>54</td>\n",
              "      <td>67167a880b9125ce7c29be4c5090cf78</td>\n",
              "      <td>nonocclusive basilar thrombus</td>\n",
              "      <td>NaN</td>\n",
              "      <td>1</td>\n",
              "      <td>67167a880b9125ce7c29be4c5090cf78</td>\n",
              "    </tr>\n",
              "    <tr>\n",
              "      <th>2</th>\n",
              "      <td>51514281</td>\n",
              "      <td>occlusion</td>\n",
              "      <td>4</td>\n",
              "      <td>3</td>\n",
              "      <td>chronic</td>\n",
              "      <td>Female</td>\n",
              "      <td>26</td>\n",
              "      <td>3127884b0a75e96b4fca39ca0c79f2ba</td>\n",
              "      <td>Left proximal to mid M2 MCA branch</td>\n",
              "      <td>NaN</td>\n",
              "      <td>1</td>\n",
              "      <td>3127884b0a75e96b4fca39ca0c79f2ba</td>\n",
              "    </tr>\n",
              "    <tr>\n",
              "      <th>3</th>\n",
              "      <td>51899605</td>\n",
              "      <td>occlusion</td>\n",
              "      <td>4</td>\n",
              "      <td>4</td>\n",
              "      <td>acute</td>\n",
              "      <td>Female</td>\n",
              "      <td>82</td>\n",
              "      <td>cf5ccc2ccee2a18f2f2ad1d368b11934</td>\n",
              "      <td>Distal right M1 segment MCA occlusion</td>\n",
              "      <td>NaN</td>\n",
              "      <td>1</td>\n",
              "      <td>cf5ccc2ccee2a18f2f2ad1d368b11934</td>\n",
              "    </tr>\n",
              "    <tr>\n",
              "      <th>4</th>\n",
              "      <td>52107931</td>\n",
              "      <td>occlusion</td>\n",
              "      <td>4</td>\n",
              "      <td>3</td>\n",
              "      <td>chronic</td>\n",
              "      <td>Female</td>\n",
              "      <td>79</td>\n",
              "      <td>54a4c1b56a068fbb7c10dd6d2b824d24</td>\n",
              "      <td>right internal carotid artery</td>\n",
              "      <td>NaN</td>\n",
              "      <td>1</td>\n",
              "      <td>54a4c1b56a068fbb7c10dd6d2b824d24</td>\n",
              "    </tr>\n",
              "    <tr>\n",
              "      <th>5</th>\n",
              "      <td>52659034</td>\n",
              "      <td>occlusion</td>\n",
              "      <td>4</td>\n",
              "      <td>3</td>\n",
              "      <td>acute</td>\n",
              "      <td>Female</td>\n",
              "      <td>86</td>\n",
              "      <td>c941ba3b043aa39f172b5aad248de41a</td>\n",
              "      <td>right distal M2</td>\n",
              "      <td>NaN</td>\n",
              "      <td>1</td>\n",
              "      <td>c941ba3b043aa39f172b5aad248de41a</td>\n",
              "    </tr>\n",
              "    <tr>\n",
              "      <th>6</th>\n",
              "      <td>52773539</td>\n",
              "      <td>occlusion</td>\n",
              "      <td>5</td>\n",
              "      <td>6</td>\n",
              "      <td>acute</td>\n",
              "      <td>Male</td>\n",
              "      <td>89</td>\n",
              "      <td>7cdc0b1ebee295d7b31677cb1c1900a4</td>\n",
              "      <td>Right proximal M1</td>\n",
              "      <td>NaN</td>\n",
              "      <td>4</td>\n",
              "      <td>7cdc0b1ebee295d7b31677cb1c1900a4</td>\n",
              "    </tr>\n",
              "    <tr>\n",
              "      <th>7</th>\n",
              "      <td>53159696</td>\n",
              "      <td>occlusion</td>\n",
              "      <td>4</td>\n",
              "      <td>4</td>\n",
              "      <td>acute</td>\n",
              "      <td>Female</td>\n",
              "      <td>83</td>\n",
              "      <td>4fbc38d5a4584150315f0cb4089f6a83</td>\n",
              "      <td>distal left M2 branch</td>\n",
              "      <td>NaN</td>\n",
              "      <td>1</td>\n",
              "      <td>4fbc38d5a4584150315f0cb4089f6a83</td>\n",
              "    </tr>\n",
              "    <tr>\n",
              "      <th>8</th>\n",
              "      <td>51302987</td>\n",
              "      <td>occlusion</td>\n",
              "      <td>2</td>\n",
              "      <td>4</td>\n",
              "      <td>chronic</td>\n",
              "      <td>Male</td>\n",
              "      <td>73</td>\n",
              "      <td>c66151656442f6476092586944145a2f</td>\n",
              "      <td>right M2 segment.\\r\\n</td>\n",
              "      <td>NaN</td>\n",
              "      <td>1-Apr</td>\n",
              "      <td>c66151656442f6476092586944145a2f</td>\n",
              "    </tr>\n",
              "    <tr>\n",
              "      <th>9</th>\n",
              "      <td>51419787</td>\n",
              "      <td>occlusion</td>\n",
              "      <td>4</td>\n",
              "      <td>4</td>\n",
              "      <td>chronic</td>\n",
              "      <td>Male</td>\n",
              "      <td>76</td>\n",
              "      <td>4667a40ee43fda2cce80f2fb4cdb916f</td>\n",
              "      <td>right M1 segment</td>\n",
              "      <td>NaN</td>\n",
              "      <td>1</td>\n",
              "      <td>4667a40ee43fda2cce80f2fb4cdb916f</td>\n",
              "    </tr>\n",
              "  </tbody>\n",
              "</table>\n",
              "</div>"
            ],
            "text/plain": [
              "   Accession_Number  ...              _ShamAccessionNumber\n",
              "0          52940184  ...  4f5e48ee2bda1760048e9e24faca6be9\n",
              "1          52978353  ...  67167a880b9125ce7c29be4c5090cf78\n",
              "2          51514281  ...  3127884b0a75e96b4fca39ca0c79f2ba\n",
              "3          51899605  ...  cf5ccc2ccee2a18f2f2ad1d368b11934\n",
              "4          52107931  ...  54a4c1b56a068fbb7c10dd6d2b824d24\n",
              "5          52659034  ...  c941ba3b043aa39f172b5aad248de41a\n",
              "6          52773539  ...  7cdc0b1ebee295d7b31677cb1c1900a4\n",
              "7          53159696  ...  4fbc38d5a4584150315f0cb4089f6a83\n",
              "8          51302987  ...  c66151656442f6476092586944145a2f\n",
              "9          51419787  ...  4667a40ee43fda2cce80f2fb4cdb916f\n",
              "\n",
              "[10 rows x 12 columns]"
            ]
          },
          "metadata": {
            "tags": []
          },
          "execution_count": 41
        }
      ]
    },
    {
      "cell_type": "code",
      "metadata": {
        "colab": {
          "base_uri": "https://localhost:8080/",
          "height": 0
        },
        "id": "etxnNcEpL_R3",
        "outputId": "8f11d075-0fd9-4ab7-d195-05e74447d529"
      },
      "source": [
        "print(\"The Demographic information we used are:\")\n",
        "names = list(df_mrs.columns)\n",
        "names.remove(\"Accession_Number\")\n",
        "names.remove(\"X_ShamAccessionNumber\")\n",
        "print(names)"
      ],
      "execution_count": 56,
      "outputs": [
        {
          "output_type": "stream",
          "text": [
            "The Demographic information we used are:\n",
            "['occlusion_or_not', 'Old_mRS', '30_Days_mRs', 'Acute_or_chronic', 'Patient_Sex', 'Patient_Age', 'vessels', 'Location', 'Passes_time', '_ShamAccessionNumber']\n"
          ],
          "name": "stdout"
        }
      ]
    },
    {
      "cell_type": "code",
      "metadata": {
        "id": "p3XwXpY_Lt0f",
        "colab": {
          "base_uri": "https://localhost:8080/",
          "height": 0
        },
        "outputId": "cd899920-a317-4628-eca2-9048f198dc16"
      },
      "source": [
        "print(\"The number of patient data we used are:\")\n",
        "print(len(df_mrs.index))"
      ],
      "execution_count": 44,
      "outputs": [
        {
          "output_type": "stream",
          "text": [
            "The number of patient data we used are:\n",
            "323\n"
          ],
          "name": "stdout"
        }
      ]
    },
    {
      "cell_type": "code",
      "metadata": {
        "id": "Fk1jVRSDMyAS"
      },
      "source": [
        "df = df_mrs"
      ],
      "execution_count": 57,
      "outputs": []
    },
    {
      "cell_type": "code",
      "metadata": {
        "colab": {
          "base_uri": "https://localhost:8080/",
          "height": 421
        },
        "id": "4YwlkK79NJXS",
        "outputId": "f1ba9a74-2f8d-4105-a511-08e9091fa86b"
      },
      "source": [
        "print(\"The number of different values of old mRs\")\n",
        "print(df.Old_mRS.value_counts())\n",
        "\n",
        "# Print the histogram of the old_mRs\n",
        "import seaborn as sns\n",
        "sns.set_theme(style=\"darkgrid\")\n",
        "sns.countplot(data=df, x=\"Old_mRS\")"
      ],
      "execution_count": 58,
      "outputs": [
        {
          "output_type": "stream",
          "text": [
            "The number of different values of old mRs\n",
            "4    159\n",
            "5     83\n",
            "3     39\n",
            "2     29\n",
            "1     13\n",
            "Name: Old_mRS, dtype: int64\n"
          ],
          "name": "stdout"
        },
        {
          "output_type": "execute_result",
          "data": {
            "text/plain": [
              "<matplotlib.axes._subplots.AxesSubplot at 0x7f153ad51190>"
            ]
          },
          "metadata": {
            "tags": []
          },
          "execution_count": 58
        },
        {
          "output_type": "display_data",
          "data": {
            "image/png": "[encoded data removed]",
            "text/plain": [
              "<Figure size 432x288 with 1 Axes>"
            ]
          },
          "metadata": {
            "tags": []
          }
        }
      ]
    },
    {
      "cell_type": "code",
      "metadata": {
        "colab": {
          "base_uri": "https://localhost:8080/",
          "height": 265
        },
        "id": "xjD46rC5NQAB",
        "outputId": "75306d69-40ed-41df-f951-2dcb5a23b1d3"
      },
      "source": [
        "sns.violinplot(data=df, y=\"Old_mRS\")"
      ],
      "execution_count": 59,
      "outputs": [
        {
          "output_type": "execute_result",
          "data": {
            "text/plain": [
              "<matplotlib.axes._subplots.AxesSubplot at 0x7f153fb35750>"
            ]
          },
          "metadata": {
            "tags": []
          },
          "execution_count": 59
        },
        {
          "output_type": "display_data",
          "data": {
            "image/png": "[encoded data removed]",
            "text/plain": [
              "<Figure size 432x288 with 1 Axes>"
            ]
          },
          "metadata": {
            "tags": []
          }
        }
      ]
    },
    {
      "cell_type": "code",
      "metadata": {
        "colab": {
          "base_uri": "https://localhost:8080/",
          "height": 455
        },
        "id": "UpSsjYuUNZD6",
        "outputId": "c8c2fc67-9791-4859-869e-964dd60d7ee9"
      },
      "source": [
        "print(\"The number of different values of 30 days mRs\")\n",
        "print(df[\"30_Days_mRs\"].value_counts())\n",
        "\n",
        "sns.set_theme(style=\"darkgrid\")\n",
        "sns.countplot(data=df, x=\"30_Days_mRs\")"
      ],
      "execution_count": 60,
      "outputs": [
        {
          "output_type": "stream",
          "text": [
            "The number of different values of 30 days mRs\n",
            "3    79\n",
            "4    63\n",
            "6    56\n",
            "1    38\n",
            "2    37\n",
            "0    28\n",
            "5    22\n",
            "Name: 30_Days_mRs, dtype: int64\n"
          ],
          "name": "stdout"
        },
        {
          "output_type": "execute_result",
          "data": {
            "text/plain": [
              "<matplotlib.axes._subplots.AxesSubplot at 0x7f153abefdd0>"
            ]
          },
          "metadata": {
            "tags": []
          },
          "execution_count": 60
        },
        {
          "output_type": "display_data",
          "data": {
            "image/png": "[encoded data removed]",
            "text/plain": [
              "<Figure size 432x288 with 1 Axes>"
            ]
          },
          "metadata": {
            "tags": []
          }
        }
      ]
    },
    {
      "cell_type": "code",
      "metadata": {
        "colab": {
          "base_uri": "https://localhost:8080/",
          "height": 265
        },
        "id": "iKUf_xfnNbO7",
        "outputId": "6ae46408-4bfd-401d-ea68-c638ee550c10"
      },
      "source": [
        "sns.violinplot(data=df, y=\"30_Days_mRs\")"
      ],
      "execution_count": 61,
      "outputs": [
        {
          "output_type": "execute_result",
          "data": {
            "text/plain": [
              "<matplotlib.axes._subplots.AxesSubplot at 0x7f153abed150>"
            ]
          },
          "metadata": {
            "tags": []
          },
          "execution_count": 61
        },
        {
          "output_type": "display_data",
          "data": {
            "image/png": "[encoded data removed]",
            "text/plain": [
              "<Figure size 432x288 with 1 Axes>"
            ]
          },
          "metadata": {
            "tags": []
          }
        }
      ]
    },
    {
      "cell_type": "code",
      "metadata": {
        "colab": {
          "base_uri": "https://localhost:8080/",
          "height": 370
        },
        "id": "sTiDBnn3NeP-",
        "outputId": "1836339f-f982-4c6e-ec6f-b587e842d421"
      },
      "source": [
        "print(\"The number of different values of Patient_Sex\")\n",
        "print(df[\"Patient_Sex\"].value_counts())\n",
        "\n",
        "sns.set_theme(style=\"darkgrid\")\n",
        "sns.countplot(data=df, x=\"Patient_Sex\")"
      ],
      "execution_count": 62,
      "outputs": [
        {
          "output_type": "stream",
          "text": [
            "The number of different values of Patient_Sex\n",
            "Female    164\n",
            "Male      159\n",
            "Name: Patient_Sex, dtype: int64\n"
          ],
          "name": "stdout"
        },
        {
          "output_type": "execute_result",
          "data": {
            "text/plain": [
              "<matplotlib.axes._subplots.AxesSubplot at 0x7f153ab31490>"
            ]
          },
          "metadata": {
            "tags": []
          },
          "execution_count": 62
        },
        {
          "output_type": "display_data",
          "data": {
            "image/png": "[encoded data removed]",
            "text/plain": [
              "<Figure size 432x288 with 1 Axes>"
            ]
          },
          "metadata": {
            "tags": []
          }
        }
      ]
    },
    {
      "cell_type": "code",
      "metadata": {
        "colab": {
          "base_uri": "https://localhost:8080/",
          "height": 370
        },
        "id": "5KabBbWtNgay",
        "outputId": "90164bd2-4244-4e14-9eb7-c3739a0e6739"
      },
      "source": [
        "print(\"The number of different values of Acute or Chronic\")\n",
        "print(df[\"Acute_or_chronic\"].value_counts())\n",
        "\n",
        "sns.set_theme(style=\"darkgrid\")\n",
        "sns.countplot(data=df, x=\"Acute_or_chronic\")"
      ],
      "execution_count": 63,
      "outputs": [
        {
          "output_type": "stream",
          "text": [
            "The number of different values of Acute or Chronic\n",
            "chronic    229\n",
            "acute       94\n",
            "Name: Acute_or_chronic, dtype: int64\n"
          ],
          "name": "stdout"
        },
        {
          "output_type": "execute_result",
          "data": {
            "text/plain": [
              "<matplotlib.axes._subplots.AxesSubplot at 0x7f153aaaba50>"
            ]
          },
          "metadata": {
            "tags": []
          },
          "execution_count": 63
        },
        {
          "output_type": "display_data",
          "data": {
            "image/png": "[encoded data removed]",
            "text/plain": [
              "<Figure size 432x288 with 1 Axes>"
            ]
          },
          "metadata": {
            "tags": []
          }
        }
      ]
    },
    {
      "cell_type": "code",
      "metadata": {
        "colab": {
          "base_uri": "https://localhost:8080/",
          "height": 320
        },
        "id": "iuxQF98LNjEx",
        "outputId": "840a4f9b-86d3-439e-c530-2574807fd896"
      },
      "source": [
        "print(\"The histogram of patient age\")\n",
        "sns.set_theme(style=\"darkgrid\")\n",
        "sns.histplot(data=df, x=\"Patient_Age\")"
      ],
      "execution_count": 64,
      "outputs": [
        {
          "output_type": "stream",
          "text": [
            "The histogram of patient age\n"
          ],
          "name": "stdout"
        },
        {
          "output_type": "execute_result",
          "data": {
            "text/plain": [
              "<matplotlib.axes._subplots.AxesSubplot at 0x7f153aa71410>"
            ]
          },
          "metadata": {
            "tags": []
          },
          "execution_count": 64
        },
        {
          "output_type": "display_data",
          "data": {
            "image/png": "[encoded data removed]",
            "text/plain": [
              "<Figure size 432x288 with 1 Axes>"
            ]
          },
          "metadata": {
            "tags": []
          }
        }
      ]
    },
    {
      "cell_type": "code",
      "metadata": {
        "colab": {
          "base_uri": "https://localhost:8080/",
          "height": 265
        },
        "id": "13TmEmBCNnpp",
        "outputId": "898169fc-269a-48dd-f942-7e9b61c90ef9"
      },
      "source": [
        "sns.violinplot(data=df, y=\"Patient_Age\")"
      ],
      "execution_count": 65,
      "outputs": [
        {
          "output_type": "execute_result",
          "data": {
            "text/plain": [
              "<matplotlib.axes._subplots.AxesSubplot at 0x7f153aa712d0>"
            ]
          },
          "metadata": {
            "tags": []
          },
          "execution_count": 65
        },
        {
          "output_type": "display_data",
          "data": {
            "image/png": "[encoded data removed]",
            "text/plain": [
              "<Figure size 432x288 with 1 Axes>"
            ]
          },
          "metadata": {
            "tags": []
          }
        }
      ]
    },
    {
      "cell_type": "code",
      "metadata": {
        "colab": {
          "base_uri": "https://localhost:8080/"
        },
        "id": "5O4WbTqxOYWO",
        "outputId": "641c40f8-8bf2-42bd-deaf-52b35d163afe"
      },
      "source": [
        "!jupyter nbconvert --execute --to html BrownDataEDA.ipynb "
      ],
      "execution_count": 67,
      "outputs": [
        {
          "output_type": "stream",
          "text": [
            "[NbConvertApp] WARNING | pattern u'BrownDataEDA.ipynb' matched no files\n",
            "This application is used to convert notebook files (*.ipynb) to various other\n",
            "formats.\n",
            "\n",
            "WARNING: THE COMMANDLINE INTERFACE MAY CHANGE IN FUTURE RELEASES.\n",
            "\n",
            "Options\n",
            "-------\n",
            "\n",
            "Arguments that take values are actually convenience aliases to full\n",
            "Configurables, whose aliases are listed on the help line. For more information\n",
            "on full configurables, see '--help-all'.\n",
            "\n",
            "--execute\n",
            "    Execute the notebook prior to export.\n",
            "--allow-errors\n",
            "    Continue notebook execution even if one of the cells throws an error and include the error message in the cell output (the default behaviour is to abort conversion). This flag is only relevant if '--execute' was specified, too.\n",
            "--no-input\n",
            "    Exclude input cells and output prompts from converted document. \n",
            "    This mode is ideal for generating code-free reports.\n",
            "--stdout\n",
            "    Write notebook output to stdout instead of files.\n",
            "--stdin\n",
            "    read a single notebook file from stdin. Write the resulting notebook with default basename 'notebook.*'\n",
            "--inplace\n",
            "    Run nbconvert in place, overwriting the existing notebook (only \n",
            "    relevant when converting to notebook format)\n",
            "-y\n",
            "    Answer yes to any questions instead of prompting.\n",
            "--clear-output\n",
            "    Clear output of current file and save in place, \n",
            "    overwriting the existing notebook.\n",
            "--debug\n",
            "    set log level to logging.DEBUG (maximize logging output)\n",
            "--no-prompt\n",
            "    Exclude input and output prompts from converted document.\n",
            "--generate-config\n",
            "    generate default config file\n",
            "--nbformat=<Enum> (NotebookExporter.nbformat_version)\n",
            "    Default: 4\n",
            "    Choices: [1, 2, 3, 4]\n",
            "    The nbformat version to write. Use this to downgrade notebooks.\n",
            "--output-dir=<Unicode> (FilesWriter.build_directory)\n",
            "    Default: ''\n",
            "    Directory to write output(s) to. Defaults to output to the directory of each\n",
            "    notebook. To recover previous default behaviour (outputting to the current\n",
            "    working directory) use . as the flag value.\n",
            "--writer=<DottedObjectName> (NbConvertApp.writer_class)\n",
            "    Default: 'FilesWriter'\n",
            "    Writer class used to write the  results of the conversion\n",
            "--log-level=<Enum> (Application.log_level)\n",
            "    Default: 30\n",
            "    Choices: (0, 10, 20, 30, 40, 50, 'DEBUG', 'INFO', 'WARN', 'ERROR', 'CRITICAL')\n",
            "    Set the log level by value or name.\n",
            "--reveal-prefix=<Unicode> (SlidesExporter.reveal_url_prefix)\n",
            "    Default: u''\n",
            "    The URL prefix for reveal.js (version 3.x). This defaults to the reveal CDN,\n",
            "    but can be any url pointing to a copy  of reveal.js.\n",
            "    For speaker notes to work, this must be a relative path to a local  copy of\n",
            "    reveal.js: e.g., \"reveal.js\".\n",
            "    If a relative path is given, it must be a subdirectory of the current\n",
            "    directory (from which the server is run).\n",
            "    See the usage documentation\n",
            "    (https://nbconvert.readthedocs.io/en/latest/usage.html#reveal-js-html-\n",
            "    slideshow) for more details.\n",
            "--to=<Unicode> (NbConvertApp.export_format)\n",
            "    Default: 'html'\n",
            "    The export format to be used, either one of the built-in formats\n",
            "    ['asciidoc', 'custom', 'html', 'latex', 'markdown', 'notebook', 'pdf',\n",
            "    'python', 'rst', 'script', 'slides'] or a dotted object name that represents\n",
            "    the import path for an `Exporter` class\n",
            "--template=<Unicode> (TemplateExporter.template_file)\n",
            "    Default: u''\n",
            "    Name of the template file to use\n",
            "--output=<Unicode> (NbConvertApp.output_base)\n",
            "    Default: ''\n",
            "    overwrite base name use for output files. can only be used when converting\n",
            "    one notebook at a time.\n",
            "--post=<DottedOrNone> (NbConvertApp.postprocessor_class)\n",
            "    Default: u''\n",
            "    PostProcessor class used to write the results of the conversion\n",
            "--config=<Unicode> (JupyterApp.config_file)\n",
            "    Default: u''\n",
            "    Full path of a config file.\n",
            "\n",
            "To see all available configurables, use `--help-all`\n",
            "\n",
            "Examples\n",
            "--------\n",
            "\n",
            "    The simplest way to use nbconvert is\n",
            "    \n",
            "    > jupyter nbconvert mynotebook.ipynb\n",
            "    \n",
            "    which will convert mynotebook.ipynb to the default format (probably HTML).\n",
            "    \n",
            "    You can specify the export format with `--to`.\n",
            "    Options include ['asciidoc', 'custom', 'html', 'latex', 'markdown', 'notebook', 'pdf', 'python', 'rst', 'script', 'slides'].\n",
            "    \n",
            "    > jupyter nbconvert --to latex mynotebook.ipynb\n",
            "    \n",
            "    Both HTML and LaTeX support multiple output templates. LaTeX includes\n",
            "    'base', 'article' and 'report'.  HTML includes 'basic' and 'full'. You\n",
            "    can specify the flavor of the format used.\n",
            "    \n",
            "    > jupyter nbconvert --to html --template basic mynotebook.ipynb\n",
            "    \n",
            "    You can also pipe the output to stdout, rather than a file\n",
            "    \n",
            "    > jupyter nbconvert mynotebook.ipynb --stdout\n",
            "    \n",
            "    PDF is generated via latex\n",
            "    \n",
            "    > jupyter nbconvert mynotebook.ipynb --to pdf\n",
            "    \n",
            "    You can get (and serve) a Reveal.js-powered slideshow\n",
            "    \n",
            "    > jupyter nbconvert myslides.ipynb --to slides --post serve\n",
            "    \n",
            "    Multiple notebooks can be given at the command line in a couple of \n",
            "    different ways:\n",
            "    \n",
            "    > jupyter nbconvert notebook*.ipynb\n",
            "    > jupyter nbconvert notebook1.ipynb notebook2.ipynb\n",
            "    \n",
            "    or you can specify the notebooks list in a config file, containing::\n",
            "    \n",
            "        c.NbConvertApp.notebooks = [\"my_notebook.ipynb\"]\n",
            "    \n",
            "    > jupyter nbconvert --config mycfg.py\n",
            "\n"
          ],
          "name": "stdout"
        }
      ]
    },
    {
      "cell_type": "code",
      "metadata": {
        "colab": {
          "base_uri": "https://localhost:8080/"
        },
        "id": "wjZPkeAdOv0g",
        "outputId": "991fe651-0d66-4486-b990-a2a98196c70f"
      },
      "source": [
        "!ls -a"
      ],
      "execution_count": 71,
      "outputs": [
        {
          "output_type": "stream",
          "text": [
            " .    brown_elvo_cleaned_2_23.csv  'CS project copied final_MIPs.csv'\n",
            " ..   .config\t\t\t    sample_data\n"
          ],
          "name": "stdout"
        }
      ]
    }
  ]
}