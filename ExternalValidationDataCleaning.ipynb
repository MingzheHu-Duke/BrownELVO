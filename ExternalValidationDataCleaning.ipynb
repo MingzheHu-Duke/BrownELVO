{
  "nbformat": 4,
  "nbformat_minor": 0,
  "metadata": {
    "colab": {
      "name": "ExternalValidationDataCleaning.ipynb",
      "provenance": [],
      "collapsed_sections": [],
      "authorship_tag": "ABX9TyPOfYZZwGELc8OOMnexZSJC",
      "include_colab_link": true
    },
    "kernelspec": {
      "name": "python3",
      "display_name": "Python 3"
    },
    "language_info": {
      "name": "python"
    }
  },
  "cells": [
    {
      "cell_type": "markdown",
      "metadata": {
        "id": "view-in-github",
        "colab_type": "text"
      },
      "source": [
        "<a href=\"https://colab.research.google.com/github/MingzheHu-Duke/BrownELVO/blob/main/ExternalValidationDataCleaning.ipynb\" target=\"_parent\"><img src=\"https://colab.research.google.com/assets/colab-badge.svg\" alt=\"Open In Colab\"/></a>"
      ]
    },
    {
      "cell_type": "code",
      "metadata": {
        "id": "VVKEYXKdBbcp"
      },
      "source": [
        "import pandas as pd\n",
        "import numpy as np"
      ],
      "execution_count": 1430,
      "outputs": []
    },
    {
      "cell_type": "code",
      "metadata": {
        "id": "oXKMqaqGAvfm"
      },
      "source": [
        "train_cleaned_df = pd.read_csv(\"/content/brown_elvo_cleaned_2_23.csv\", engine=\"python\")"
      ],
      "execution_count": 1431,
      "outputs": []
    },
    {
      "cell_type": "markdown",
      "metadata": {
        "id": "cyGfPLkMp_WX"
      },
      "source": [
        "Recall what are the features we used for training our models"
      ]
    },
    {
      "cell_type": "code",
      "metadata": {
        "colab": {
          "base_uri": "https://localhost:8080/",
          "height": 204
        },
        "id": "-DzpCiNvFQcK",
        "outputId": "bb58c879-cd89-4a7f-e90c-986372fda872"
      },
      "source": [
        "train_cleaned_df.head()"
      ],
      "execution_count": 1432,
      "outputs": [
        {
          "output_type": "execute_result",
          "data": {
            "text/html": [
              "<div>\n",
              "<style scoped>\n",
              "    .dataframe tbody tr th:only-of-type {\n",
              "        vertical-align: middle;\n",
              "    }\n",
              "\n",
              "    .dataframe tbody tr th {\n",
              "        vertical-align: top;\n",
              "    }\n",
              "\n",
              "    .dataframe thead th {\n",
              "        text-align: right;\n",
              "    }\n",
              "</style>\n",
              "<table border=\"1\" class=\"dataframe\">\n",
              "  <thead>\n",
              "    <tr style=\"text-align: right;\">\n",
              "      <th></th>\n",
              "      <th>Accession_Number</th>\n",
              "      <th>occlusion_or_not</th>\n",
              "      <th>Old_mRS</th>\n",
              "      <th>30_Days_mRs</th>\n",
              "      <th>Acute_or_chronic</th>\n",
              "      <th>Patient_Sex</th>\n",
              "      <th>Patient_Age</th>\n",
              "      <th>X_ShamAccessionNumber</th>\n",
              "      <th>vessels</th>\n",
              "      <th>Location</th>\n",
              "      <th>Passes_time</th>\n",
              "    </tr>\n",
              "  </thead>\n",
              "  <tbody>\n",
              "    <tr>\n",
              "      <th>0</th>\n",
              "      <td>52818203</td>\n",
              "      <td>occlusion</td>\n",
              "      <td>1</td>\n",
              "      <td>0</td>\n",
              "      <td>chronic</td>\n",
              "      <td>Male</td>\n",
              "      <td>77</td>\n",
              "      <td>7a603e8495ee6583a204a2c0db629608</td>\n",
              "      <td>Chronic left M1 occlusion</td>\n",
              "      <td>M1</td>\n",
              "      <td>NaN</td>\n",
              "    </tr>\n",
              "    <tr>\n",
              "      <th>1</th>\n",
              "      <td>53195738</td>\n",
              "      <td>occlusion</td>\n",
              "      <td>1</td>\n",
              "      <td>1</td>\n",
              "      <td>acute</td>\n",
              "      <td>Male</td>\n",
              "      <td>52</td>\n",
              "      <td>2f01364ffa79d159ef9a106c89437197</td>\n",
              "      <td>right internal carotid artery</td>\n",
              "      <td>ICA</td>\n",
              "      <td>NaN</td>\n",
              "    </tr>\n",
              "    <tr>\n",
              "      <th>2</th>\n",
              "      <td>52990262</td>\n",
              "      <td>occlusion</td>\n",
              "      <td>4</td>\n",
              "      <td>3</td>\n",
              "      <td>chronic</td>\n",
              "      <td>Male</td>\n",
              "      <td>69</td>\n",
              "      <td>65397fc8c232d46a463cda07f4151607</td>\n",
              "      <td>M1 segment left MCA.\\r\\n</td>\n",
              "      <td>M1</td>\n",
              "      <td>NaN</td>\n",
              "    </tr>\n",
              "    <tr>\n",
              "      <th>3</th>\n",
              "      <td>53277488</td>\n",
              "      <td>occlusion</td>\n",
              "      <td>2</td>\n",
              "      <td>2</td>\n",
              "      <td>chronic</td>\n",
              "      <td>Female</td>\n",
              "      <td>54</td>\n",
              "      <td>391ae8eb152bbe38907c6fd18200e9a1</td>\n",
              "      <td>basilar artery and right vertebral artery</td>\n",
              "      <td>10</td>\n",
              "      <td>NaN</td>\n",
              "    </tr>\n",
              "    <tr>\n",
              "      <th>4</th>\n",
              "      <td>51080603</td>\n",
              "      <td>occlusion</td>\n",
              "      <td>5</td>\n",
              "      <td>3</td>\n",
              "      <td>chronic</td>\n",
              "      <td>Male</td>\n",
              "      <td>78</td>\n",
              "      <td>d8f857bbd5b0288bc97e9786ddf461a9</td>\n",
              "      <td>M1 segment of the right MCA</td>\n",
              "      <td>NaN</td>\n",
              "      <td>NaN</td>\n",
              "    </tr>\n",
              "  </tbody>\n",
              "</table>\n",
              "</div>"
            ],
            "text/plain": [
              "   Accession_Number occlusion_or_not  ...  Location  Passes_time\n",
              "0          52818203        occlusion  ...        M1          NaN\n",
              "1          53195738        occlusion  ...       ICA          NaN\n",
              "2          52990262        occlusion  ...        M1          NaN\n",
              "3          53277488        occlusion  ...        10          NaN\n",
              "4          51080603        occlusion  ...       NaN          NaN\n",
              "\n",
              "[5 rows x 11 columns]"
            ]
          },
          "metadata": {
            "tags": []
          },
          "execution_count": 1432
        }
      ]
    },
    {
      "cell_type": "code",
      "metadata": {
        "colab": {
          "base_uri": "https://localhost:8080/"
        },
        "id": "eeI4GipE4gV6",
        "outputId": "c27dd2cd-d3ea-4983-bf5f-42e83865ea91"
      },
      "source": [
        "# Show the column names and types\n",
        "print(\"Data types of each columns:\")\n",
        "print(train_cleaned_df.dtypes)\n",
        "print(len(train_cleaned_df.columns))"
      ],
      "execution_count": 1433,
      "outputs": [
        {
          "output_type": "stream",
          "text": [
            "Data types of each columns:\n",
            "Accession_Number          int64\n",
            "occlusion_or_not         object\n",
            "Old_mRS                   int64\n",
            "30_Days_mRs               int64\n",
            "Acute_or_chronic         object\n",
            "Patient_Sex              object\n",
            "Patient_Age               int64\n",
            "X_ShamAccessionNumber    object\n",
            "vessels                  object\n",
            "Location                 object\n",
            "Passes_time              object\n",
            "dtype: object\n",
            "11\n"
          ],
          "name": "stdout"
        }
      ]
    },
    {
      "cell_type": "markdown",
      "metadata": {
        "id": "g-VnDsPBXgn6"
      },
      "source": [
        "Now lets load the test data between 2016 and 2018"
      ]
    },
    {
      "cell_type": "markdown",
      "metadata": {
        "id": "tgHUtAXfapZb"
      },
      "source": [
        "Tried to load the data into data frame but it seems that it include null data"
      ]
    },
    {
      "cell_type": "code",
      "metadata": {
        "colab": {
          "base_uri": "https://localhost:8080/"
        },
        "id": "UQjeoaDjaCuu",
        "outputId": "21982f1b-f10d-49c1-8f35-ff23870e0bcf"
      },
      "source": [
        "if '\\0' in open('/content/search_stroke_2016_6_1_2017_12_31完成penn-msj5.5.xls', encoding=\"ISO-8859-1\").read():\n",
        "    print(\"you have null bytes in your input file\")\n",
        "else:\n",
        "    print(\"you don't\")"
      ],
      "execution_count": 1434,
      "outputs": [
        {
          "output_type": "stream",
          "text": [
            "you have null bytes in your input file\n"
          ],
          "name": "stdout"
        }
      ]
    },
    {
      "cell_type": "markdown",
      "metadata": {
        "id": "1JKPOB0igE0b"
      },
      "source": [
        "It seems that the problem is caused by the empty lines at the end of the csv file, so I manually removed them and name the new csv file as stroke_2016_2017.csv"
      ]
    },
    {
      "cell_type": "code",
      "metadata": {
        "id": "3wJvbcKie5lR"
      },
      "source": [
        "test_2016_7_df = pd.read_csv(\"/content/stroke_2016_2017.csv\")"
      ],
      "execution_count": 1435,
      "outputs": []
    },
    {
      "cell_type": "code",
      "metadata": {
        "colab": {
          "base_uri": "https://localhost:8080/"
        },
        "id": "yLkL_uyKdg5d",
        "outputId": "f5c42431-a336-4334-ebeb-102c6a503f53"
      },
      "source": [
        "n_row = test_2016_7_df.shape[0]\n",
        "print(\"The number of observations are: {}\".format(n_row))"
      ],
      "execution_count": 1436,
      "outputs": [
        {
          "output_type": "stream",
          "text": [
            "The number of observations are: 183\n"
          ],
          "name": "stdout"
        }
      ]
    },
    {
      "cell_type": "code",
      "metadata": {
        "colab": {
          "base_uri": "https://localhost:8080/",
          "height": 661
        },
        "id": "vP3Wu7xFimDW",
        "outputId": "6453c3bb-4f86-462d-e0fe-b94b7864e657"
      },
      "source": [
        "test_2016_7_df.head()"
      ],
      "execution_count": 1437,
      "outputs": [
        {
          "output_type": "execute_result",
          "data": {
            "text/html": [
              "<div>\n",
              "<style scoped>\n",
              "    .dataframe tbody tr th:only-of-type {\n",
              "        vertical-align: middle;\n",
              "    }\n",
              "\n",
              "    .dataframe tbody tr th {\n",
              "        vertical-align: top;\n",
              "    }\n",
              "\n",
              "    .dataframe thead th {\n",
              "        text-align: right;\n",
              "    }\n",
              "</style>\n",
              "<table border=\"1\" class=\"dataframe\">\n",
              "  <thead>\n",
              "    <tr style=\"text-align: right;\">\n",
              "      <th></th>\n",
              "      <th>Organization</th>\n",
              "      <th>Point of Care</th>\n",
              "      <th>Source System</th>\n",
              "      <th>Accession Number</th>\n",
              "      <th>MRN</th>\n",
              "      <th>DSA</th>\n",
              "      <th>note</th>\n",
              "      <th>TICI</th>\n",
              "      <th>Acute or chronic diagnosis of the cause</th>\n",
              "      <th>pass time</th>\n",
              "      <th>Exam Started Date</th>\n",
              "      <th>prior treatment mRs</th>\n",
              "      <th>prior treatment 30 day</th>\n",
              "      <th>posttreatment 30 day mRs</th>\n",
              "      <th>Modality</th>\n",
              "      <th>Exam Code</th>\n",
              "      <th>Exam Description</th>\n",
              "      <th>CPT Code</th>\n",
              "      <th>Report Text</th>\n",
              "      <th>Is Stat</th>\n",
              "      <th>Patient Status</th>\n",
              "      <th>occlusion or not</th>\n",
              "      <th>Acute or chronic</th>\n",
              "      <th>vessels</th>\n",
              "      <th>取栓</th>\n",
              "      <th>标注</th>\n",
              "      <th>Patient Sex</th>\n",
              "      <th>Patient Age</th>\n",
              "      <th>Ordered By</th>\n",
              "      <th>Ordered Date</th>\n",
              "      <th>Scheduled By</th>\n",
              "      <th>Scheduled Date</th>\n",
              "      <th>Patient Arrived By</th>\n",
              "      <th>Patient Arrived Date</th>\n",
              "      <th>Exam Started By</th>\n",
              "      <th>Exam Started Date.1</th>\n",
              "      <th>Exam Completed By</th>\n",
              "      <th>Exam Completed Date</th>\n",
              "      <th>Report Created By</th>\n",
              "      <th>Report Created Date</th>\n",
              "      <th>...</th>\n",
              "      <th>Ordered to Scheduled (minutes)</th>\n",
              "      <th>Ordered to Exam Started (minutes)</th>\n",
              "      <th>Ordered to Exam Completed (minutes)</th>\n",
              "      <th>Ordered to Report Created (minutes)</th>\n",
              "      <th>Ordered to Preliminary Report (minutes)</th>\n",
              "      <th>Ordered to Report Finalized (minutes)</th>\n",
              "      <th>Ordered to Report Addendum (minutes)</th>\n",
              "      <th>Scheduled to Exam Started (minutes)</th>\n",
              "      <th>Scheduled to Exam Completed (minutes)</th>\n",
              "      <th>Scheduled to Report Created (minutes)</th>\n",
              "      <th>Scheduled to Preliminary Report (minutes)</th>\n",
              "      <th>Scheduled to Report Finalized (minutes)</th>\n",
              "      <th>Scheduled to Report Addendum (minutes)</th>\n",
              "      <th>Exam Started to Exam Completed (minutes)</th>\n",
              "      <th>Exam Started to Report Created (minutes)</th>\n",
              "      <th>Exam Started to Preliminary Report (minutes)</th>\n",
              "      <th>Exam Started to Report Finalized (minutes)</th>\n",
              "      <th>Exam Started to Report Addendum (minutes)</th>\n",
              "      <th>Exam Completed to Report Created (minutes)</th>\n",
              "      <th>Exam Completed to Preliminary Report (minutes)</th>\n",
              "      <th>Exam Completed to Report Finalized (minutes)</th>\n",
              "      <th>Exam Completed to Report Addendum (minutes)</th>\n",
              "      <th>Report Created to Preliminary Report (minutes)</th>\n",
              "      <th>Report Created to Report Finalized (minutes)</th>\n",
              "      <th>Report Created to Report Addendum (minutes)</th>\n",
              "      <th>Preliminary Report to Report Finalized (minutes)</th>\n",
              "      <th>Preliminary Report to Report Addendum (minutes)</th>\n",
              "      <th>Report Finalized to Report Addendum (minutes)</th>\n",
              "      <th>Work (RVU)</th>\n",
              "      <th>PE (RVU)</th>\n",
              "      <th>MP (RVU)</th>\n",
              "      <th>Work (Professional) (RVU)</th>\n",
              "      <th>PE (Professional) (RVU)</th>\n",
              "      <th>MP (Professional) (RVU)</th>\n",
              "      <th>Work (Technical) (RVU)</th>\n",
              "      <th>PE (Technical) (RVU)</th>\n",
              "      <th>MP (Technical) (RVU)</th>\n",
              "      <th>Total (RVU)</th>\n",
              "      <th>Total (Professional) (RVU)</th>\n",
              "      <th>Total (Technical) (RVU)</th>\n",
              "    </tr>\n",
              "  </thead>\n",
              "  <tbody>\n",
              "    <tr>\n",
              "      <th>0</th>\n",
              "      <td>UPHS</td>\n",
              "      <td>PENN PRESBYTERIAN MEDICAL CENTER</td>\n",
              "      <td>EPIC</td>\n",
              "      <td>29245949</td>\n",
              "      <td>452152002</td>\n",
              "      <td>not</td>\n",
              "      <td>NaN</td>\n",
              "      <td>NaN</td>\n",
              "      <td>MRIShow acute</td>\n",
              "      <td>NaN</td>\n",
              "      <td>12/6/2017 15:43</td>\n",
              "      <td>1</td>\n",
              "      <td>2017/12/9</td>\n",
              "      <td>1</td>\n",
              "      <td>CT</td>\n",
              "      <td>CTHDCAZ</td>\n",
              "      <td>CT HEAD ARTERIOGRAM W AND WO IV CONTRAST</td>\n",
              "      <td>70496</td>\n",
              "      <td>History: 65-year-old man with history of prior...</td>\n",
              "      <td>True</td>\n",
              "      <td>Emergency</td>\n",
              "      <td>occlusion</td>\n",
              "      <td>chronic</td>\n",
              "      <td>left mid M1 branch</td>\n",
              "      <td>4</td>\n",
              "      <td>And everything else as 0</td>\n",
              "      <td>Male</td>\n",
              "      <td>65</td>\n",
              "      <td>FURIA, FRANCES</td>\n",
              "      <td>12/6/2017 15:28</td>\n",
              "      <td>NaN</td>\n",
              "      <td>12/6/2017 15:45</td>\n",
              "      <td>NaN</td>\n",
              "      <td>12/6/2017 15:34</td>\n",
              "      <td>NaN</td>\n",
              "      <td>12/6/2017 15:43</td>\n",
              "      <td>NaN</td>\n",
              "      <td>12/6/2017 16:13</td>\n",
              "      <td>NaN</td>\n",
              "      <td>NaN</td>\n",
              "      <td>...</td>\n",
              "      <td>17</td>\n",
              "      <td>15</td>\n",
              "      <td>45</td>\n",
              "      <td>NaN</td>\n",
              "      <td>NaN</td>\n",
              "      <td>88</td>\n",
              "      <td>NaN</td>\n",
              "      <td>-2</td>\n",
              "      <td>28</td>\n",
              "      <td>NaN</td>\n",
              "      <td>NaN</td>\n",
              "      <td>71</td>\n",
              "      <td>NaN</td>\n",
              "      <td>30</td>\n",
              "      <td>NaN</td>\n",
              "      <td>NaN</td>\n",
              "      <td>73</td>\n",
              "      <td>NaN</td>\n",
              "      <td>NaN</td>\n",
              "      <td>NaN</td>\n",
              "      <td>43</td>\n",
              "      <td>NaN</td>\n",
              "      <td>NaN</td>\n",
              "      <td>NaN</td>\n",
              "      <td>NaN</td>\n",
              "      <td>NaN</td>\n",
              "      <td>NaN</td>\n",
              "      <td>NaN</td>\n",
              "      <td>1.75</td>\n",
              "      <td>8.28</td>\n",
              "      <td>NaN</td>\n",
              "      <td>1.75</td>\n",
              "      <td>2.50</td>\n",
              "      <td>NaN</td>\n",
              "      <td>0</td>\n",
              "      <td>5.78</td>\n",
              "      <td>NaN</td>\n",
              "      <td>10.03</td>\n",
              "      <td>4.25</td>\n",
              "      <td>5.78</td>\n",
              "    </tr>\n",
              "    <tr>\n",
              "      <th>1</th>\n",
              "      <td>UPHS</td>\n",
              "      <td>HUP</td>\n",
              "      <td>EPIC</td>\n",
              "      <td>28986404</td>\n",
              "      <td>15138217</td>\n",
              "      <td>not</td>\n",
              "      <td>NaN</td>\n",
              "      <td>NaN</td>\n",
              "      <td>MRI</td>\n",
              "      <td>NaN</td>\n",
              "      <td>10/5/2017 18:35</td>\n",
              "      <td>2</td>\n",
              "      <td>2017/10/9</td>\n",
              "      <td>2</td>\n",
              "      <td>CT</td>\n",
              "      <td>CTHDCAZ</td>\n",
              "      <td>CT HEAD ARTERIOGRAM W AND WO IV CONTRAST</td>\n",
              "      <td>70496</td>\n",
              "      <td>HISTORY: 53-year-old man with history of ische...</td>\n",
              "      <td>True</td>\n",
              "      <td>Emergency</td>\n",
              "      <td>occlusion</td>\n",
              "      <td>chronic</td>\n",
              "      <td>proximal M1 segment of the right MCA</td>\n",
              "      <td>2</td>\n",
              "      <td>NaN</td>\n",
              "      <td>Male</td>\n",
              "      <td>53</td>\n",
              "      <td>TERAN-MERINO, FELIPE</td>\n",
              "      <td>10/5/2017 18:14</td>\n",
              "      <td>NaN</td>\n",
              "      <td>10/5/2017 18:15</td>\n",
              "      <td>NaN</td>\n",
              "      <td>10/5/2017 18:18</td>\n",
              "      <td>NaN</td>\n",
              "      <td>10/5/2017 18:35</td>\n",
              "      <td>NaN</td>\n",
              "      <td>10/5/2017 18:59</td>\n",
              "      <td>NaN</td>\n",
              "      <td>NaN</td>\n",
              "      <td>...</td>\n",
              "      <td>1</td>\n",
              "      <td>21</td>\n",
              "      <td>45</td>\n",
              "      <td>NaN</td>\n",
              "      <td>135.0</td>\n",
              "      <td>156</td>\n",
              "      <td>NaN</td>\n",
              "      <td>20</td>\n",
              "      <td>44</td>\n",
              "      <td>NaN</td>\n",
              "      <td>134.0</td>\n",
              "      <td>155</td>\n",
              "      <td>NaN</td>\n",
              "      <td>24</td>\n",
              "      <td>NaN</td>\n",
              "      <td>114.0</td>\n",
              "      <td>135</td>\n",
              "      <td>NaN</td>\n",
              "      <td>NaN</td>\n",
              "      <td>90.0</td>\n",
              "      <td>111</td>\n",
              "      <td>NaN</td>\n",
              "      <td>NaN</td>\n",
              "      <td>NaN</td>\n",
              "      <td>NaN</td>\n",
              "      <td>21.0</td>\n",
              "      <td>NaN</td>\n",
              "      <td>NaN</td>\n",
              "      <td>1.75</td>\n",
              "      <td>8.28</td>\n",
              "      <td>NaN</td>\n",
              "      <td>1.75</td>\n",
              "      <td>2.50</td>\n",
              "      <td>NaN</td>\n",
              "      <td>0</td>\n",
              "      <td>5.78</td>\n",
              "      <td>NaN</td>\n",
              "      <td>10.03</td>\n",
              "      <td>4.25</td>\n",
              "      <td>5.78</td>\n",
              "    </tr>\n",
              "    <tr>\n",
              "      <th>2</th>\n",
              "      <td>UPHS</td>\n",
              "      <td>HUP</td>\n",
              "      <td>EPIC</td>\n",
              "      <td>27433774</td>\n",
              "      <td>50034818</td>\n",
              "      <td>not</td>\n",
              "      <td>Thrombectomy</td>\n",
              "      <td>pro-op0/post-op3</td>\n",
              "      <td>Thrombectomy</td>\n",
              "      <td>NaN</td>\n",
              "      <td>8/9/2016 9:09</td>\n",
              "      <td>4</td>\n",
              "      <td>2016/9/14</td>\n",
              "      <td>5</td>\n",
              "      <td>CT</td>\n",
              "      <td>CTHDCAZ</td>\n",
              "      <td>CT HEAD ARTERIOGRAM W AND WO IV CONTRAST</td>\n",
              "      <td>70496</td>\n",
              "      <td>Indication: Left MCA stroke\\n TECHNIQUE: CT an...</td>\n",
              "      <td>True</td>\n",
              "      <td>Emergency</td>\n",
              "      <td>occlusion</td>\n",
              "      <td>chronic</td>\n",
              "      <td>left M1</td>\n",
              "      <td>4</td>\n",
              "      <td>NaN</td>\n",
              "      <td>Male</td>\n",
              "      <td>73</td>\n",
              "      <td>REYES, IRIS</td>\n",
              "      <td>8/9/2016 8:54</td>\n",
              "      <td>NaN</td>\n",
              "      <td>8/9/2016 8:55</td>\n",
              "      <td>NaN</td>\n",
              "      <td>8/9/2016 8:57</td>\n",
              "      <td>NaN</td>\n",
              "      <td>8/9/2016 9:09</td>\n",
              "      <td>NaN</td>\n",
              "      <td>8/9/2016 9:23</td>\n",
              "      <td>NaN</td>\n",
              "      <td>NaN</td>\n",
              "      <td>...</td>\n",
              "      <td>1</td>\n",
              "      <td>15</td>\n",
              "      <td>29</td>\n",
              "      <td>NaN</td>\n",
              "      <td>39.0</td>\n",
              "      <td>87</td>\n",
              "      <td>4365.0</td>\n",
              "      <td>14</td>\n",
              "      <td>28</td>\n",
              "      <td>NaN</td>\n",
              "      <td>38.0</td>\n",
              "      <td>86</td>\n",
              "      <td>4364.0</td>\n",
              "      <td>14</td>\n",
              "      <td>NaN</td>\n",
              "      <td>24.0</td>\n",
              "      <td>72</td>\n",
              "      <td>4350.0</td>\n",
              "      <td>NaN</td>\n",
              "      <td>10.0</td>\n",
              "      <td>58</td>\n",
              "      <td>4336.0</td>\n",
              "      <td>NaN</td>\n",
              "      <td>NaN</td>\n",
              "      <td>NaN</td>\n",
              "      <td>48.0</td>\n",
              "      <td>4326.0</td>\n",
              "      <td>4278.0</td>\n",
              "      <td>1.75</td>\n",
              "      <td>8.28</td>\n",
              "      <td>NaN</td>\n",
              "      <td>1.75</td>\n",
              "      <td>2.49</td>\n",
              "      <td>NaN</td>\n",
              "      <td>0</td>\n",
              "      <td>5.79</td>\n",
              "      <td>NaN</td>\n",
              "      <td>10.03</td>\n",
              "      <td>4.24</td>\n",
              "      <td>5.79</td>\n",
              "    </tr>\n",
              "    <tr>\n",
              "      <th>3</th>\n",
              "      <td>UPHS</td>\n",
              "      <td>PENN PRESBYTERIAN MEDICAL CENTER</td>\n",
              "      <td>EPIC</td>\n",
              "      <td>29284027</td>\n",
              "      <td>44332567</td>\n",
              "      <td>not</td>\n",
              "      <td>NaN</td>\n",
              "      <td>NaN</td>\n",
              "      <td>Medical history andCTA</td>\n",
              "      <td>NaN</td>\n",
              "      <td>12/15/2017 10:06</td>\n",
              "      <td>2</td>\n",
              "      <td>2018/1/16</td>\n",
              "      <td>1</td>\n",
              "      <td>CT</td>\n",
              "      <td>CTHDCAZ</td>\n",
              "      <td>CT HEAD ARTERIOGRAM W AND WO IV CONTRAST</td>\n",
              "      <td>70496</td>\n",
              "      <td>Clinical information: 77-year-old woman with h...</td>\n",
              "      <td>True</td>\n",
              "      <td>Emergency</td>\n",
              "      <td>occlusion</td>\n",
              "      <td>chronic</td>\n",
              "      <td>left vertebral artery at its origin</td>\n",
              "      <td>0</td>\n",
              "      <td>NaN</td>\n",
              "      <td>Female</td>\n",
              "      <td>77</td>\n",
              "      <td>LEE, BRYAN</td>\n",
              "      <td>12/15/2017 9:27</td>\n",
              "      <td>NaN</td>\n",
              "      <td>12/15/2017 9:50</td>\n",
              "      <td>NaN</td>\n",
              "      <td>12/15/2017 9:30</td>\n",
              "      <td>NaN</td>\n",
              "      <td>12/15/2017 10:06</td>\n",
              "      <td>NaN</td>\n",
              "      <td>12/15/2017 10:07</td>\n",
              "      <td>NaN</td>\n",
              "      <td>NaN</td>\n",
              "      <td>...</td>\n",
              "      <td>23</td>\n",
              "      <td>39</td>\n",
              "      <td>40</td>\n",
              "      <td>NaN</td>\n",
              "      <td>NaN</td>\n",
              "      <td>69</td>\n",
              "      <td>71.0</td>\n",
              "      <td>16</td>\n",
              "      <td>17</td>\n",
              "      <td>NaN</td>\n",
              "      <td>NaN</td>\n",
              "      <td>46</td>\n",
              "      <td>48.0</td>\n",
              "      <td>1</td>\n",
              "      <td>NaN</td>\n",
              "      <td>NaN</td>\n",
              "      <td>30</td>\n",
              "      <td>32.0</td>\n",
              "      <td>NaN</td>\n",
              "      <td>NaN</td>\n",
              "      <td>29</td>\n",
              "      <td>31.0</td>\n",
              "      <td>NaN</td>\n",
              "      <td>NaN</td>\n",
              "      <td>NaN</td>\n",
              "      <td>NaN</td>\n",
              "      <td>NaN</td>\n",
              "      <td>2.0</td>\n",
              "      <td>1.75</td>\n",
              "      <td>8.28</td>\n",
              "      <td>NaN</td>\n",
              "      <td>1.75</td>\n",
              "      <td>2.50</td>\n",
              "      <td>NaN</td>\n",
              "      <td>0</td>\n",
              "      <td>5.78</td>\n",
              "      <td>NaN</td>\n",
              "      <td>10.03</td>\n",
              "      <td>4.25</td>\n",
              "      <td>5.78</td>\n",
              "    </tr>\n",
              "    <tr>\n",
              "      <th>4</th>\n",
              "      <td>UPHS</td>\n",
              "      <td>HUP</td>\n",
              "      <td>EPIC</td>\n",
              "      <td>29203810</td>\n",
              "      <td>453441255</td>\n",
              "      <td>not</td>\n",
              "      <td>NaN</td>\n",
              "      <td>NaN</td>\n",
              "      <td>MRI</td>\n",
              "      <td>NaN</td>\n",
              "      <td>11/27/2017 19:26</td>\n",
              "      <td>2</td>\n",
              "      <td>2017/11/9</td>\n",
              "      <td>1</td>\n",
              "      <td>CT</td>\n",
              "      <td>CTHDCAZ</td>\n",
              "      <td>CT HEAD ARTERIOGRAM W AND WO IV CONTRAST</td>\n",
              "      <td>70496</td>\n",
              "      <td>HISTORY: 92-year-old man with prior left MCA s...</td>\n",
              "      <td>True</td>\n",
              "      <td>Inpatient</td>\n",
              "      <td>occlusion</td>\n",
              "      <td>chronic</td>\n",
              "      <td>proximal left M2segment</td>\n",
              "      <td>3</td>\n",
              "      <td>NaN</td>\n",
              "      <td>Male</td>\n",
              "      <td>92</td>\n",
              "      <td>FEELEY, DENISE</td>\n",
              "      <td>11/27/2017 16:57</td>\n",
              "      <td>NaN</td>\n",
              "      <td>11/27/2017 17:00</td>\n",
              "      <td>NaN</td>\n",
              "      <td>11/27/2017 19:19</td>\n",
              "      <td>NaN</td>\n",
              "      <td>11/27/2017 19:26</td>\n",
              "      <td>NaN</td>\n",
              "      <td>11/27/2017 19:39</td>\n",
              "      <td>NaN</td>\n",
              "      <td>NaN</td>\n",
              "      <td>...</td>\n",
              "      <td>3</td>\n",
              "      <td>149</td>\n",
              "      <td>162</td>\n",
              "      <td>NaN</td>\n",
              "      <td>239.0</td>\n",
              "      <td>948</td>\n",
              "      <td>NaN</td>\n",
              "      <td>146</td>\n",
              "      <td>159</td>\n",
              "      <td>NaN</td>\n",
              "      <td>236.0</td>\n",
              "      <td>945</td>\n",
              "      <td>NaN</td>\n",
              "      <td>13</td>\n",
              "      <td>NaN</td>\n",
              "      <td>90.0</td>\n",
              "      <td>799</td>\n",
              "      <td>NaN</td>\n",
              "      <td>NaN</td>\n",
              "      <td>77.0</td>\n",
              "      <td>786</td>\n",
              "      <td>NaN</td>\n",
              "      <td>NaN</td>\n",
              "      <td>NaN</td>\n",
              "      <td>NaN</td>\n",
              "      <td>709.0</td>\n",
              "      <td>NaN</td>\n",
              "      <td>NaN</td>\n",
              "      <td>1.75</td>\n",
              "      <td>8.28</td>\n",
              "      <td>NaN</td>\n",
              "      <td>1.75</td>\n",
              "      <td>2.50</td>\n",
              "      <td>NaN</td>\n",
              "      <td>0</td>\n",
              "      <td>5.78</td>\n",
              "      <td>NaN</td>\n",
              "      <td>10.03</td>\n",
              "      <td>4.25</td>\n",
              "      <td>5.78</td>\n",
              "    </tr>\n",
              "  </tbody>\n",
              "</table>\n",
              "<p>5 rows × 86 columns</p>\n",
              "</div>"
            ],
            "text/plain": [
              "  Organization  ... Total (Technical) (RVU)\n",
              "0         UPHS  ...                    5.78\n",
              "1         UPHS  ...                    5.78\n",
              "2         UPHS  ...                    5.79\n",
              "3         UPHS  ...                    5.78\n",
              "4         UPHS  ...                    5.78\n",
              "\n",
              "[5 rows x 86 columns]"
            ]
          },
          "metadata": {
            "tags": []
          },
          "execution_count": 1437
        }
      ]
    },
    {
      "cell_type": "code",
      "metadata": {
        "colab": {
          "base_uri": "https://localhost:8080/"
        },
        "id": "hr5P9Alit12A",
        "outputId": "30010d35-015a-4c3a-9707-168ee770e06f"
      },
      "source": [
        "# Show the column names and types\n",
        "print(\"columns:\")\n",
        "test_2016_7_df.columns"
      ],
      "execution_count": 1438,
      "outputs": [
        {
          "output_type": "stream",
          "text": [
            "columns:\n"
          ],
          "name": "stdout"
        },
        {
          "output_type": "execute_result",
          "data": {
            "text/plain": [
              "Index(['Organization', 'Point of Care', 'Source System', 'Accession Number',\n",
              "       'MRN', 'DSA', 'note', 'TICI', 'Acute or chronic diagnosis of the cause',\n",
              "       'pass time', 'Exam Started Date', 'prior treatment mRs',\n",
              "       'prior treatment 30 day', 'posttreatment 30 day mRs', 'Modality',\n",
              "       'Exam Code', 'Exam Description', 'CPT Code', 'Report Text', 'Is Stat',\n",
              "       'Patient Status', 'occlusion or not', 'Acute or chronic', ' vessels',\n",
              "       '取栓', '标注', 'Patient Sex', 'Patient Age', 'Ordered By', 'Ordered Date',\n",
              "       'Scheduled By', 'Scheduled Date', 'Patient Arrived By',\n",
              "       'Patient Arrived Date', 'Exam Started By', 'Exam Started Date.1',\n",
              "       'Exam Completed By', 'Exam Completed Date', 'Report Created By',\n",
              "       'Report Created Date', 'Preliminary Report By',\n",
              "       'Preliminary Report Date', 'Report Finalized By',\n",
              "       'Report Finalized Date', 'Report Addendum By', 'Report Addendum Date',\n",
              "       'Ordered to Scheduled (minutes)', 'Ordered to Exam Started (minutes)',\n",
              "       'Ordered to Exam Completed (minutes)',\n",
              "       'Ordered to Report Created (minutes)',\n",
              "       'Ordered to Preliminary Report (minutes)',\n",
              "       'Ordered to Report Finalized (minutes)',\n",
              "       'Ordered to Report Addendum (minutes)',\n",
              "       'Scheduled to Exam Started (minutes)',\n",
              "       'Scheduled to Exam Completed (minutes)',\n",
              "       'Scheduled to Report Created (minutes)',\n",
              "       'Scheduled to Preliminary Report (minutes)',\n",
              "       'Scheduled to Report Finalized (minutes)',\n",
              "       'Scheduled to Report Addendum (minutes)',\n",
              "       'Exam Started to Exam Completed (minutes)',\n",
              "       'Exam Started to Report Created (minutes)',\n",
              "       'Exam Started to Preliminary Report (minutes)',\n",
              "       'Exam Started to Report Finalized (minutes)',\n",
              "       'Exam Started to Report Addendum (minutes)',\n",
              "       'Exam Completed to Report Created (minutes)',\n",
              "       'Exam Completed to Preliminary Report (minutes)',\n",
              "       'Exam Completed to Report Finalized (minutes)',\n",
              "       'Exam Completed to Report Addendum (minutes)',\n",
              "       'Report Created to Preliminary Report (minutes)',\n",
              "       'Report Created to Report Finalized (minutes)',\n",
              "       'Report Created to Report Addendum (minutes)',\n",
              "       'Preliminary Report to Report Finalized (minutes)',\n",
              "       'Preliminary Report to Report Addendum (minutes)',\n",
              "       'Report Finalized to Report Addendum (minutes)', 'Work (RVU)',\n",
              "       'PE (RVU)', 'MP (RVU)', 'Work (Professional) (RVU)',\n",
              "       'PE (Professional) (RVU)', 'MP (Professional) (RVU)',\n",
              "       'Work (Technical) (RVU)', 'PE (Technical) (RVU)',\n",
              "       'MP (Technical) (RVU)', 'Total (RVU)', 'Total (Professional) (RVU)',\n",
              "       'Total (Technical) (RVU)'],\n",
              "      dtype='object')"
            ]
          },
          "metadata": {
            "tags": []
          },
          "execution_count": 1438
        }
      ]
    },
    {
      "cell_type": "markdown",
      "metadata": {
        "id": "RHlBr8h8tbRh"
      },
      "source": [
        "Now lets only keep the columns we need"
      ]
    },
    {
      "cell_type": "code",
      "metadata": {
        "colab": {
          "base_uri": "https://localhost:8080/"
        },
        "id": "bnD5XEB7tndF",
        "outputId": "fe8879d0-809f-42ab-d1b1-c3bc5ebf49d8"
      },
      "source": [
        "col_list = [\"Accession Number\", \"occlusion or not\", \"prior treatment mRs\",\n",
        "            \"posttreatment 30 day mRs\", \"Acute or chronic\", \"Patient Sex\",\n",
        "            \"Patient Age\", \" vessels\", \"pass time\"]\n",
        "print(col_list)"
      ],
      "execution_count": 1439,
      "outputs": [
        {
          "output_type": "stream",
          "text": [
            "['Accession Number', 'occlusion or not', 'prior treatment mRs', 'posttreatment 30 day mRs', 'Acute or chronic', 'Patient Sex', 'Patient Age', ' vessels', 'pass time']\n"
          ],
          "name": "stdout"
        }
      ]
    },
    {
      "cell_type": "code",
      "metadata": {
        "colab": {
          "base_uri": "https://localhost:8080/",
          "height": 204
        },
        "id": "AxlePTYTw8ah",
        "outputId": "d63a0032-a2f4-44b0-b17b-9618ec0ef146"
      },
      "source": [
        "test_2016_7_selected = test_2016_7_df[col_list]\n",
        "test_2016_7_selected.head()"
      ],
      "execution_count": 1440,
      "outputs": [
        {
          "output_type": "execute_result",
          "data": {
            "text/html": [
              "<div>\n",
              "<style scoped>\n",
              "    .dataframe tbody tr th:only-of-type {\n",
              "        vertical-align: middle;\n",
              "    }\n",
              "\n",
              "    .dataframe tbody tr th {\n",
              "        vertical-align: top;\n",
              "    }\n",
              "\n",
              "    .dataframe thead th {\n",
              "        text-align: right;\n",
              "    }\n",
              "</style>\n",
              "<table border=\"1\" class=\"dataframe\">\n",
              "  <thead>\n",
              "    <tr style=\"text-align: right;\">\n",
              "      <th></th>\n",
              "      <th>Accession Number</th>\n",
              "      <th>occlusion or not</th>\n",
              "      <th>prior treatment mRs</th>\n",
              "      <th>posttreatment 30 day mRs</th>\n",
              "      <th>Acute or chronic</th>\n",
              "      <th>Patient Sex</th>\n",
              "      <th>Patient Age</th>\n",
              "      <th>vessels</th>\n",
              "      <th>pass time</th>\n",
              "    </tr>\n",
              "  </thead>\n",
              "  <tbody>\n",
              "    <tr>\n",
              "      <th>0</th>\n",
              "      <td>29245949</td>\n",
              "      <td>occlusion</td>\n",
              "      <td>1</td>\n",
              "      <td>1</td>\n",
              "      <td>chronic</td>\n",
              "      <td>Male</td>\n",
              "      <td>65</td>\n",
              "      <td>left mid M1 branch</td>\n",
              "      <td>NaN</td>\n",
              "    </tr>\n",
              "    <tr>\n",
              "      <th>1</th>\n",
              "      <td>28986404</td>\n",
              "      <td>occlusion</td>\n",
              "      <td>2</td>\n",
              "      <td>2</td>\n",
              "      <td>chronic</td>\n",
              "      <td>Male</td>\n",
              "      <td>53</td>\n",
              "      <td>proximal M1 segment of the right MCA</td>\n",
              "      <td>NaN</td>\n",
              "    </tr>\n",
              "    <tr>\n",
              "      <th>2</th>\n",
              "      <td>27433774</td>\n",
              "      <td>occlusion</td>\n",
              "      <td>4</td>\n",
              "      <td>5</td>\n",
              "      <td>chronic</td>\n",
              "      <td>Male</td>\n",
              "      <td>73</td>\n",
              "      <td>left M1</td>\n",
              "      <td>NaN</td>\n",
              "    </tr>\n",
              "    <tr>\n",
              "      <th>3</th>\n",
              "      <td>29284027</td>\n",
              "      <td>occlusion</td>\n",
              "      <td>2</td>\n",
              "      <td>1</td>\n",
              "      <td>chronic</td>\n",
              "      <td>Female</td>\n",
              "      <td>77</td>\n",
              "      <td>left vertebral artery at its origin</td>\n",
              "      <td>NaN</td>\n",
              "    </tr>\n",
              "    <tr>\n",
              "      <th>4</th>\n",
              "      <td>29203810</td>\n",
              "      <td>occlusion</td>\n",
              "      <td>2</td>\n",
              "      <td>1</td>\n",
              "      <td>chronic</td>\n",
              "      <td>Male</td>\n",
              "      <td>92</td>\n",
              "      <td>proximal left M2segment</td>\n",
              "      <td>NaN</td>\n",
              "    </tr>\n",
              "  </tbody>\n",
              "</table>\n",
              "</div>"
            ],
            "text/plain": [
              "   Accession Number  ... pass time\n",
              "0          29245949  ...       NaN\n",
              "1          28986404  ...       NaN\n",
              "2          27433774  ...       NaN\n",
              "3          29284027  ...       NaN\n",
              "4          29203810  ...       NaN\n",
              "\n",
              "[5 rows x 9 columns]"
            ]
          },
          "metadata": {
            "tags": []
          },
          "execution_count": 1440
        }
      ]
    },
    {
      "cell_type": "markdown",
      "metadata": {
        "id": "0A4Qizzlyidi"
      },
      "source": [
        "Since we do not have the Sham Accession Number in the test data, we duplicate the Accesion Number Column and name it as the Sham Accession Number."
      ]
    },
    {
      "cell_type": "code",
      "metadata": {
        "id": "IxkQxpoozKDn"
      },
      "source": [
        "# Duplicate one column\n",
        "buffer_df = test_2016_7_selected.copy()\n",
        "buffer_df[\"X_ShamAccessionNumber\"] = test_2016_7_selected.loc[:, \"Accession Number\"]\n",
        "# Add a column with Nulls\n",
        "test_2016_7 = buffer_df.assign(Location=np.nan)"
      ],
      "execution_count": 1441,
      "outputs": []
    },
    {
      "cell_type": "code",
      "metadata": {
        "colab": {
          "base_uri": "https://localhost:8080/"
        },
        "id": "Fqc9SFp4zXeP",
        "outputId": "fea085d7-6c3a-4ae8-bd6d-4c77db3f00e2"
      },
      "source": [
        "print(test_2016_7.columns)\n",
        "print(len(test_2016_7.columns))"
      ],
      "execution_count": 1442,
      "outputs": [
        {
          "output_type": "stream",
          "text": [
            "Index(['Accession Number', 'occlusion or not', 'prior treatment mRs',\n",
            "       'posttreatment 30 day mRs', 'Acute or chronic', 'Patient Sex',\n",
            "       'Patient Age', ' vessels', 'pass time', 'X_ShamAccessionNumber',\n",
            "       'Location'],\n",
            "      dtype='object')\n",
            "11\n"
          ],
          "name": "stdout"
        }
      ]
    },
    {
      "cell_type": "code",
      "metadata": {
        "colab": {
          "base_uri": "https://localhost:8080/"
        },
        "id": "0GOWhb5rvBaC",
        "outputId": "c55201f2-11c5-4faf-e900-bc4cf3369854"
      },
      "source": [
        "train_cleaned_df.columns"
      ],
      "execution_count": 1443,
      "outputs": [
        {
          "output_type": "execute_result",
          "data": {
            "text/plain": [
              "Index(['Accession_Number', 'occlusion_or_not', 'Old_mRS', '30_Days_mRs',\n",
              "       'Acute_or_chronic', 'Patient_Sex', 'Patient_Age',\n",
              "       'X_ShamAccessionNumber', 'vessels', 'Location', 'Passes_time'],\n",
              "      dtype='object')"
            ]
          },
          "metadata": {
            "tags": []
          },
          "execution_count": 1443
        }
      ]
    },
    {
      "cell_type": "code",
      "metadata": {
        "colab": {
          "base_uri": "https://localhost:8080/",
          "height": 238
        },
        "id": "Q_-5QDffuGSf",
        "outputId": "47c89564-c2b8-47aa-f48b-c6de734527b0"
      },
      "source": [
        "test_2016_7.head()"
      ],
      "execution_count": 1444,
      "outputs": [
        {
          "output_type": "execute_result",
          "data": {
            "text/html": [
              "<div>\n",
              "<style scoped>\n",
              "    .dataframe tbody tr th:only-of-type {\n",
              "        vertical-align: middle;\n",
              "    }\n",
              "\n",
              "    .dataframe tbody tr th {\n",
              "        vertical-align: top;\n",
              "    }\n",
              "\n",
              "    .dataframe thead th {\n",
              "        text-align: right;\n",
              "    }\n",
              "</style>\n",
              "<table border=\"1\" class=\"dataframe\">\n",
              "  <thead>\n",
              "    <tr style=\"text-align: right;\">\n",
              "      <th></th>\n",
              "      <th>Accession Number</th>\n",
              "      <th>occlusion or not</th>\n",
              "      <th>prior treatment mRs</th>\n",
              "      <th>posttreatment 30 day mRs</th>\n",
              "      <th>Acute or chronic</th>\n",
              "      <th>Patient Sex</th>\n",
              "      <th>Patient Age</th>\n",
              "      <th>vessels</th>\n",
              "      <th>pass time</th>\n",
              "      <th>X_ShamAccessionNumber</th>\n",
              "      <th>Location</th>\n",
              "    </tr>\n",
              "  </thead>\n",
              "  <tbody>\n",
              "    <tr>\n",
              "      <th>0</th>\n",
              "      <td>29245949</td>\n",
              "      <td>occlusion</td>\n",
              "      <td>1</td>\n",
              "      <td>1</td>\n",
              "      <td>chronic</td>\n",
              "      <td>Male</td>\n",
              "      <td>65</td>\n",
              "      <td>left mid M1 branch</td>\n",
              "      <td>NaN</td>\n",
              "      <td>29245949</td>\n",
              "      <td>NaN</td>\n",
              "    </tr>\n",
              "    <tr>\n",
              "      <th>1</th>\n",
              "      <td>28986404</td>\n",
              "      <td>occlusion</td>\n",
              "      <td>2</td>\n",
              "      <td>2</td>\n",
              "      <td>chronic</td>\n",
              "      <td>Male</td>\n",
              "      <td>53</td>\n",
              "      <td>proximal M1 segment of the right MCA</td>\n",
              "      <td>NaN</td>\n",
              "      <td>28986404</td>\n",
              "      <td>NaN</td>\n",
              "    </tr>\n",
              "    <tr>\n",
              "      <th>2</th>\n",
              "      <td>27433774</td>\n",
              "      <td>occlusion</td>\n",
              "      <td>4</td>\n",
              "      <td>5</td>\n",
              "      <td>chronic</td>\n",
              "      <td>Male</td>\n",
              "      <td>73</td>\n",
              "      <td>left M1</td>\n",
              "      <td>NaN</td>\n",
              "      <td>27433774</td>\n",
              "      <td>NaN</td>\n",
              "    </tr>\n",
              "    <tr>\n",
              "      <th>3</th>\n",
              "      <td>29284027</td>\n",
              "      <td>occlusion</td>\n",
              "      <td>2</td>\n",
              "      <td>1</td>\n",
              "      <td>chronic</td>\n",
              "      <td>Female</td>\n",
              "      <td>77</td>\n",
              "      <td>left vertebral artery at its origin</td>\n",
              "      <td>NaN</td>\n",
              "      <td>29284027</td>\n",
              "      <td>NaN</td>\n",
              "    </tr>\n",
              "    <tr>\n",
              "      <th>4</th>\n",
              "      <td>29203810</td>\n",
              "      <td>occlusion</td>\n",
              "      <td>2</td>\n",
              "      <td>1</td>\n",
              "      <td>chronic</td>\n",
              "      <td>Male</td>\n",
              "      <td>92</td>\n",
              "      <td>proximal left M2segment</td>\n",
              "      <td>NaN</td>\n",
              "      <td>29203810</td>\n",
              "      <td>NaN</td>\n",
              "    </tr>\n",
              "  </tbody>\n",
              "</table>\n",
              "</div>"
            ],
            "text/plain": [
              "   Accession Number occlusion or not  ... X_ShamAccessionNumber Location\n",
              "0          29245949        occlusion  ...              29245949      NaN\n",
              "1          28986404        occlusion  ...              28986404      NaN\n",
              "2          27433774        occlusion  ...              27433774      NaN\n",
              "3          29284027        occlusion  ...              29284027      NaN\n",
              "4          29203810        occlusion  ...              29203810      NaN\n",
              "\n",
              "[5 rows x 11 columns]"
            ]
          },
          "metadata": {
            "tags": []
          },
          "execution_count": 1444
        }
      ]
    },
    {
      "cell_type": "code",
      "metadata": {
        "id": "A9P3YgKDuu0y"
      },
      "source": [
        "test_2016_7 = test_2016_7.rename(columns={\"Accession Number\" : \"Accession_Number\", \"occlusion or not\" : \"occlusion_or_not\",\n",
        "                            \"prior treatment mRs\":\"Old_mRS\", \"posttreatment 30 day mRs\" : \"30_Days_mRs\",\n",
        "                            \"Acute or chronic\":\"Acute_or_chronic\", \"Patient Sex\": \"Patient_Sex\",\n",
        "                            \"Patient Age\" : \"Patient_Age\", \" vessels\" : \"vessels\", \"pass time\" : \"Passes_time\"})"
      ],
      "execution_count": 1445,
      "outputs": []
    },
    {
      "cell_type": "code",
      "metadata": {
        "colab": {
          "base_uri": "https://localhost:8080/"
        },
        "id": "aIHVVJGwxkab",
        "outputId": "011159ea-558c-4da1-8715-15b9597eef19"
      },
      "source": [
        "test_2016_7.columns"
      ],
      "execution_count": 1446,
      "outputs": [
        {
          "output_type": "execute_result",
          "data": {
            "text/plain": [
              "Index(['Accession_Number', 'occlusion_or_not', 'Old_mRS', '30_Days_mRs',\n",
              "       'Acute_or_chronic', 'Patient_Sex', 'Patient_Age', 'vessels',\n",
              "       'Passes_time', 'X_ShamAccessionNumber', 'Location'],\n",
              "      dtype='object')"
            ]
          },
          "metadata": {
            "tags": []
          },
          "execution_count": 1446
        }
      ]
    },
    {
      "cell_type": "code",
      "metadata": {
        "colab": {
          "base_uri": "https://localhost:8080/"
        },
        "id": "O7Vd_LAzyMQU",
        "outputId": "40630fac-d8ba-4dc3-f3e0-ab4c72093e8c"
      },
      "source": [
        "# Check if the columns of the test dataframe and the \n",
        "# train dataframe are the same\n",
        "a = list(test_2016_7.columns)\n",
        "b = list(train_cleaned_df.columns)\n",
        "a.sort()\n",
        "b.sort()\n",
        "a == b"
      ],
      "execution_count": 1447,
      "outputs": [
        {
          "output_type": "execute_result",
          "data": {
            "text/plain": [
              "True"
            ]
          },
          "metadata": {
            "tags": []
          },
          "execution_count": 1447
        }
      ]
    },
    {
      "cell_type": "markdown",
      "metadata": {
        "id": "zbJMFF4TyusM"
      },
      "source": [
        "Now let's load the test data after 2018"
      ]
    },
    {
      "cell_type": "code",
      "metadata": {
        "id": "8C39pVH5zOEu"
      },
      "source": [
        "test_2018_df = pd.read_csv(\"/content/search_stroke_after2018急慢性5.5.csv\")"
      ],
      "execution_count": 1448,
      "outputs": []
    },
    {
      "cell_type": "code",
      "metadata": {
        "colab": {
          "base_uri": "https://localhost:8080/"
        },
        "id": "t6qp5dDA0f0N",
        "outputId": "32680c93-4f14-43e4-85ca-e8445bd153f6"
      },
      "source": [
        "n_row = test_2018_df.shape[0]\n",
        "print(\"The number of observations are: {}\".format(n_row))"
      ],
      "execution_count": 1449,
      "outputs": [
        {
          "output_type": "stream",
          "text": [
            "The number of observations are: 2826\n"
          ],
          "name": "stdout"
        }
      ]
    },
    {
      "cell_type": "code",
      "metadata": {
        "colab": {
          "base_uri": "https://localhost:8080/",
          "height": 593
        },
        "id": "EQzjshHX0STs",
        "outputId": "01c44575-7674-4d33-bf6a-7fc06790bcc7"
      },
      "source": [
        "test_2018_df.head()"
      ],
      "execution_count": 1450,
      "outputs": [
        {
          "output_type": "execute_result",
          "data": {
            "text/html": [
              "<div>\n",
              "<style scoped>\n",
              "    .dataframe tbody tr th:only-of-type {\n",
              "        vertical-align: middle;\n",
              "    }\n",
              "\n",
              "    .dataframe tbody tr th {\n",
              "        vertical-align: top;\n",
              "    }\n",
              "\n",
              "    .dataframe thead th {\n",
              "        text-align: right;\n",
              "    }\n",
              "</style>\n",
              "<table border=\"1\" class=\"dataframe\">\n",
              "  <thead>\n",
              "    <tr style=\"text-align: right;\">\n",
              "      <th></th>\n",
              "      <th>Organization</th>\n",
              "      <th>Point of Care</th>\n",
              "      <th>Source System</th>\n",
              "      <th>Accession Number</th>\n",
              "      <th>Modality</th>\n",
              "      <th>Exam Code</th>\n",
              "      <th>Exam Description</th>\n",
              "      <th>CPT Code</th>\n",
              "      <th>Report Text</th>\n",
              "      <th>Is Stat</th>\n",
              "      <th>MRN</th>\n",
              "      <th>Unnamed: 11</th>\n",
              "      <th>Unnamed: 12</th>\n",
              "      <th>Acute or chronic diagnosis of the cause</th>\n",
              "      <th>TICI</th>\n",
              "      <th>pass time</th>\n",
              "      <th>pre-op mrs</th>\n",
              "      <th>post-op mrs</th>\n",
              "      <th>For the first time after surgery</th>\n",
              "      <th>occlusion or not</th>\n",
              "      <th>Acute or chronic</th>\n",
              "      <th>vessels</th>\n",
              "      <th>note</th>\n",
              "      <th>Patient Status</th>\n",
              "      <th>Patient Sex</th>\n",
              "      <th>Patient Age</th>\n",
              "      <th>Ordered By</th>\n",
              "      <th>Ordered Date</th>\n",
              "      <th>Scheduled By</th>\n",
              "      <th>Scheduled Date</th>\n",
              "      <th>Patient Arrived By</th>\n",
              "      <th>Patient Arrived Date</th>\n",
              "      <th>Exam Started By</th>\n",
              "      <th>Exam Started Date</th>\n",
              "      <th>Exam Completed By</th>\n",
              "      <th>Exam Completed Date</th>\n",
              "      <th>Report Created By</th>\n",
              "      <th>Report Created Date</th>\n",
              "      <th>Preliminary Report By</th>\n",
              "      <th>Preliminary Report Date</th>\n",
              "      <th>...</th>\n",
              "      <th>Ordered to Scheduled (minutes)</th>\n",
              "      <th>Ordered to Exam Started (minutes)</th>\n",
              "      <th>Ordered to Exam Completed (minutes)</th>\n",
              "      <th>Ordered to Report Created (minutes)</th>\n",
              "      <th>Ordered to Preliminary Report (minutes)</th>\n",
              "      <th>Ordered to Report Finalized (minutes)</th>\n",
              "      <th>Ordered to Report Addendum (minutes)</th>\n",
              "      <th>Scheduled to Exam Started (minutes)</th>\n",
              "      <th>Scheduled to Exam Completed (minutes)</th>\n",
              "      <th>Scheduled to Report Created (minutes)</th>\n",
              "      <th>Scheduled to Preliminary Report (minutes)</th>\n",
              "      <th>Scheduled to Report Finalized (minutes)</th>\n",
              "      <th>Scheduled to Report Addendum (minutes)</th>\n",
              "      <th>Exam Started to Exam Completed (minutes)</th>\n",
              "      <th>Exam Started to Report Created (minutes)</th>\n",
              "      <th>Exam Started to Preliminary Report (minutes)</th>\n",
              "      <th>Exam Started to Report Finalized (minutes)</th>\n",
              "      <th>Exam Started to Report Addendum (minutes)</th>\n",
              "      <th>Exam Completed to Report Created (minutes)</th>\n",
              "      <th>Exam Completed to Preliminary Report (minutes)</th>\n",
              "      <th>Exam Completed to Report Finalized (minutes)</th>\n",
              "      <th>Exam Completed to Report Addendum (minutes)</th>\n",
              "      <th>Report Created to Preliminary Report (minutes)</th>\n",
              "      <th>Report Created to Report Finalized (minutes)</th>\n",
              "      <th>Report Created to Report Addendum (minutes)</th>\n",
              "      <th>Preliminary Report to Report Finalized (minutes)</th>\n",
              "      <th>Preliminary Report to Report Addendum (minutes)</th>\n",
              "      <th>Report Finalized to Report Addendum (minutes)</th>\n",
              "      <th>Work (RVU)</th>\n",
              "      <th>PE (RVU)</th>\n",
              "      <th>MP (RVU)</th>\n",
              "      <th>Work (Professional) (RVU)</th>\n",
              "      <th>PE (Professional) (RVU)</th>\n",
              "      <th>MP (Professional) (RVU)</th>\n",
              "      <th>Work (Technical) (RVU)</th>\n",
              "      <th>PE (Technical) (RVU)</th>\n",
              "      <th>MP (Technical) (RVU)</th>\n",
              "      <th>Total (RVU)</th>\n",
              "      <th>Total (Professional) (RVU)</th>\n",
              "      <th>Total (Technical) (RVU)</th>\n",
              "    </tr>\n",
              "  </thead>\n",
              "  <tbody>\n",
              "    <tr>\n",
              "      <th>0</th>\n",
              "      <td>UPHS</td>\n",
              "      <td>HUP</td>\n",
              "      <td>EPIC</td>\n",
              "      <td>32586869</td>\n",
              "      <td>CT</td>\n",
              "      <td>CTHDCAZ</td>\n",
              "      <td>CT HEAD ARTERIOGRAM W AND WO IV CONTRAST</td>\n",
              "      <td>70496</td>\n",
              "      <td>INDICATION: STROKE ALERT -- RAPID CT/CTA/CTP R...</td>\n",
              "      <td>0</td>\n",
              "      <td>460255268</td>\n",
              "      <td>NaN</td>\n",
              "      <td>NaN</td>\n",
              "      <td>Patient went to mechanical thrombectomy</td>\n",
              "      <td>pre-op0/post-op3</td>\n",
              "      <td>2</td>\n",
              "      <td>3</td>\n",
              "      <td>4</td>\n",
              "      <td>NaN</td>\n",
              "      <td>occlusion</td>\n",
              "      <td>acute</td>\n",
              "      <td>M1 segment of the left MCA</td>\n",
              "      <td>1</td>\n",
              "      <td>Outpatient</td>\n",
              "      <td>Male</td>\n",
              "      <td>55</td>\n",
              "      <td>ROBERTS, ZACHARY</td>\n",
              "      <td>10/20/2019 0:24</td>\n",
              "      <td>NaN</td>\n",
              "      <td>10/20/2019 1:45</td>\n",
              "      <td>NaN</td>\n",
              "      <td>10/20/2019 1:19</td>\n",
              "      <td>NaN</td>\n",
              "      <td>10/20/2019 1:30</td>\n",
              "      <td>NaN</td>\n",
              "      <td>10/20/2019 1:33</td>\n",
              "      <td>NaN</td>\n",
              "      <td>NaN</td>\n",
              "      <td>NAEINI, KOUROSH</td>\n",
              "      <td>NaN</td>\n",
              "      <td>...</td>\n",
              "      <td>81</td>\n",
              "      <td>66</td>\n",
              "      <td>69</td>\n",
              "      <td>NaN</td>\n",
              "      <td>NaN</td>\n",
              "      <td>551</td>\n",
              "      <td>563.0</td>\n",
              "      <td>-15</td>\n",
              "      <td>-12</td>\n",
              "      <td>NaN</td>\n",
              "      <td>NaN</td>\n",
              "      <td>470</td>\n",
              "      <td>482.0</td>\n",
              "      <td>3</td>\n",
              "      <td>NaN</td>\n",
              "      <td>NaN</td>\n",
              "      <td>485</td>\n",
              "      <td>497.0</td>\n",
              "      <td>NaN</td>\n",
              "      <td>NaN</td>\n",
              "      <td>482</td>\n",
              "      <td>494.0</td>\n",
              "      <td>NaN</td>\n",
              "      <td>NaN</td>\n",
              "      <td>NaN</td>\n",
              "      <td>NaN</td>\n",
              "      <td>NaN</td>\n",
              "      <td>12.0</td>\n",
              "      <td>1.75</td>\n",
              "      <td>8.29</td>\n",
              "      <td>NaN</td>\n",
              "      <td>1.75</td>\n",
              "      <td>2.49</td>\n",
              "      <td>NaN</td>\n",
              "      <td>0</td>\n",
              "      <td>5.8</td>\n",
              "      <td>NaN</td>\n",
              "      <td>10.04</td>\n",
              "      <td>4.24</td>\n",
              "      <td>5.8</td>\n",
              "    </tr>\n",
              "    <tr>\n",
              "      <th>1</th>\n",
              "      <td>UPHS</td>\n",
              "      <td>HUP</td>\n",
              "      <td>EPIC</td>\n",
              "      <td>32361140</td>\n",
              "      <td>CT</td>\n",
              "      <td>CTHDCAZ</td>\n",
              "      <td>CT HEAD ARTERIOGRAM W AND WO IV CONTRAST</td>\n",
              "      <td>70496</td>\n",
              "      <td>**********************************************...</td>\n",
              "      <td>1</td>\n",
              "      <td>NaN</td>\n",
              "      <td>NaN</td>\n",
              "      <td>NaN</td>\n",
              "      <td>NaN</td>\n",
              "      <td>NaN</td>\n",
              "      <td>NaN</td>\n",
              "      <td>NaN</td>\n",
              "      <td>NaN</td>\n",
              "      <td>NaN</td>\n",
              "      <td>not</td>\n",
              "      <td>NaN</td>\n",
              "      <td>NaN</td>\n",
              "      <td>NaN</td>\n",
              "      <td>Inpatient</td>\n",
              "      <td>Female</td>\n",
              "      <td>76</td>\n",
              "      <td>UY, NATALIE</td>\n",
              "      <td>9/11/2019 4:56</td>\n",
              "      <td>NaN</td>\n",
              "      <td>9/11/2019 5:00</td>\n",
              "      <td>NaN</td>\n",
              "      <td>9/11/2019 5:00</td>\n",
              "      <td>NaN</td>\n",
              "      <td>9/11/2019 5:13</td>\n",
              "      <td>NaN</td>\n",
              "      <td>9/11/2019 5:24</td>\n",
              "      <td>NaN</td>\n",
              "      <td>NaN</td>\n",
              "      <td>SMITH, PAXTON</td>\n",
              "      <td>9/11/2019 7:13</td>\n",
              "      <td>...</td>\n",
              "      <td>4</td>\n",
              "      <td>17</td>\n",
              "      <td>28</td>\n",
              "      <td>NaN</td>\n",
              "      <td>137.0</td>\n",
              "      <td>317</td>\n",
              "      <td>NaN</td>\n",
              "      <td>13</td>\n",
              "      <td>24</td>\n",
              "      <td>NaN</td>\n",
              "      <td>133.0</td>\n",
              "      <td>313</td>\n",
              "      <td>NaN</td>\n",
              "      <td>11</td>\n",
              "      <td>NaN</td>\n",
              "      <td>120.0</td>\n",
              "      <td>300</td>\n",
              "      <td>NaN</td>\n",
              "      <td>NaN</td>\n",
              "      <td>109.0</td>\n",
              "      <td>289</td>\n",
              "      <td>NaN</td>\n",
              "      <td>NaN</td>\n",
              "      <td>NaN</td>\n",
              "      <td>NaN</td>\n",
              "      <td>180.0</td>\n",
              "      <td>NaN</td>\n",
              "      <td>NaN</td>\n",
              "      <td>1.75</td>\n",
              "      <td>8.29</td>\n",
              "      <td>NaN</td>\n",
              "      <td>1.75</td>\n",
              "      <td>2.49</td>\n",
              "      <td>NaN</td>\n",
              "      <td>0</td>\n",
              "      <td>5.8</td>\n",
              "      <td>NaN</td>\n",
              "      <td>10.04</td>\n",
              "      <td>4.24</td>\n",
              "      <td>5.8</td>\n",
              "    </tr>\n",
              "    <tr>\n",
              "      <th>2</th>\n",
              "      <td>UPHS</td>\n",
              "      <td>MEDICAL CENTER OF PRINCETON</td>\n",
              "      <td>EPIC</td>\n",
              "      <td>32278320</td>\n",
              "      <td>CT</td>\n",
              "      <td>CTHDEAZ</td>\n",
              "      <td>CT HEAD ARTERIOGRAM W IV CONTRAST</td>\n",
              "      <td>70496</td>\n",
              "      <td>EXAM:\\n CT Head Angio w IV Contrast\\n  \\n CLIN...</td>\n",
              "      <td>1</td>\n",
              "      <td>NaN</td>\n",
              "      <td>NaN</td>\n",
              "      <td>NaN</td>\n",
              "      <td>NaN</td>\n",
              "      <td>NaN</td>\n",
              "      <td>NaN</td>\n",
              "      <td>NaN</td>\n",
              "      <td>NaN</td>\n",
              "      <td>NaN</td>\n",
              "      <td>not</td>\n",
              "      <td>NaN</td>\n",
              "      <td>NaN</td>\n",
              "      <td>NaN</td>\n",
              "      <td>Emergency</td>\n",
              "      <td>Male</td>\n",
              "      <td>85</td>\n",
              "      <td>VOSSLER, CATHLEEN</td>\n",
              "      <td>8/26/2019 15:33</td>\n",
              "      <td>NaN</td>\n",
              "      <td>8/26/2019 15:35</td>\n",
              "      <td>NaN</td>\n",
              "      <td>8/26/2019 16:29</td>\n",
              "      <td>NaN</td>\n",
              "      <td>8/26/2019 16:33</td>\n",
              "      <td>NaN</td>\n",
              "      <td>8/26/2019 16:57</td>\n",
              "      <td>NaN</td>\n",
              "      <td>NaN</td>\n",
              "      <td>NaN</td>\n",
              "      <td>NaN</td>\n",
              "      <td>...</td>\n",
              "      <td>2</td>\n",
              "      <td>60</td>\n",
              "      <td>84</td>\n",
              "      <td>NaN</td>\n",
              "      <td>NaN</td>\n",
              "      <td>97</td>\n",
              "      <td>163.0</td>\n",
              "      <td>58</td>\n",
              "      <td>82</td>\n",
              "      <td>NaN</td>\n",
              "      <td>NaN</td>\n",
              "      <td>95</td>\n",
              "      <td>161.0</td>\n",
              "      <td>24</td>\n",
              "      <td>NaN</td>\n",
              "      <td>NaN</td>\n",
              "      <td>37</td>\n",
              "      <td>103.0</td>\n",
              "      <td>NaN</td>\n",
              "      <td>NaN</td>\n",
              "      <td>13</td>\n",
              "      <td>79.0</td>\n",
              "      <td>NaN</td>\n",
              "      <td>NaN</td>\n",
              "      <td>NaN</td>\n",
              "      <td>NaN</td>\n",
              "      <td>NaN</td>\n",
              "      <td>66.0</td>\n",
              "      <td>1.75</td>\n",
              "      <td>8.29</td>\n",
              "      <td>NaN</td>\n",
              "      <td>1.75</td>\n",
              "      <td>2.49</td>\n",
              "      <td>NaN</td>\n",
              "      <td>0</td>\n",
              "      <td>5.8</td>\n",
              "      <td>NaN</td>\n",
              "      <td>10.04</td>\n",
              "      <td>4.24</td>\n",
              "      <td>5.8</td>\n",
              "    </tr>\n",
              "    <tr>\n",
              "      <th>3</th>\n",
              "      <td>UPHS</td>\n",
              "      <td>MEDICAL CENTER OF PRINCETON</td>\n",
              "      <td>EPIC</td>\n",
              "      <td>31633318</td>\n",
              "      <td>CT</td>\n",
              "      <td>CTHDEAZ</td>\n",
              "      <td>CT HEAD ARTERIOGRAM W IV CONTRAST</td>\n",
              "      <td>70496</td>\n",
              "      <td>EXAM:\\n CT Head Angio w IV Contrast\\n  \\n CLIN...</td>\n",
              "      <td>1</td>\n",
              "      <td>NaN</td>\n",
              "      <td>NaN</td>\n",
              "      <td>NaN</td>\n",
              "      <td>NaN</td>\n",
              "      <td>NaN</td>\n",
              "      <td>NaN</td>\n",
              "      <td>NaN</td>\n",
              "      <td>NaN</td>\n",
              "      <td>NaN</td>\n",
              "      <td>not</td>\n",
              "      <td>NaN</td>\n",
              "      <td>NaN</td>\n",
              "      <td>NaN</td>\n",
              "      <td>Emergency</td>\n",
              "      <td>Male</td>\n",
              "      <td>74</td>\n",
              "      <td>PORTALE, JOSEPH</td>\n",
              "      <td>4/29/2019 14:55</td>\n",
              "      <td>NaN</td>\n",
              "      <td>4/29/2019 15:05</td>\n",
              "      <td>NaN</td>\n",
              "      <td>4/29/2019 15:48</td>\n",
              "      <td>NaN</td>\n",
              "      <td>4/29/2019 16:00</td>\n",
              "      <td>NaN</td>\n",
              "      <td>4/29/2019 16:13</td>\n",
              "      <td>NaN</td>\n",
              "      <td>NaN</td>\n",
              "      <td>NaN</td>\n",
              "      <td>NaN</td>\n",
              "      <td>...</td>\n",
              "      <td>10</td>\n",
              "      <td>65</td>\n",
              "      <td>78</td>\n",
              "      <td>NaN</td>\n",
              "      <td>NaN</td>\n",
              "      <td>95</td>\n",
              "      <td>129.0</td>\n",
              "      <td>55</td>\n",
              "      <td>68</td>\n",
              "      <td>NaN</td>\n",
              "      <td>NaN</td>\n",
              "      <td>85</td>\n",
              "      <td>119.0</td>\n",
              "      <td>13</td>\n",
              "      <td>NaN</td>\n",
              "      <td>NaN</td>\n",
              "      <td>30</td>\n",
              "      <td>64.0</td>\n",
              "      <td>NaN</td>\n",
              "      <td>NaN</td>\n",
              "      <td>17</td>\n",
              "      <td>51.0</td>\n",
              "      <td>NaN</td>\n",
              "      <td>NaN</td>\n",
              "      <td>NaN</td>\n",
              "      <td>NaN</td>\n",
              "      <td>NaN</td>\n",
              "      <td>34.0</td>\n",
              "      <td>1.75</td>\n",
              "      <td>8.29</td>\n",
              "      <td>NaN</td>\n",
              "      <td>1.75</td>\n",
              "      <td>2.49</td>\n",
              "      <td>NaN</td>\n",
              "      <td>0</td>\n",
              "      <td>5.8</td>\n",
              "      <td>NaN</td>\n",
              "      <td>10.04</td>\n",
              "      <td>4.24</td>\n",
              "      <td>5.8</td>\n",
              "    </tr>\n",
              "    <tr>\n",
              "      <th>4</th>\n",
              "      <td>UPHS</td>\n",
              "      <td>HUP</td>\n",
              "      <td>EPIC</td>\n",
              "      <td>31607963</td>\n",
              "      <td>CT</td>\n",
              "      <td>CTHDCAZ</td>\n",
              "      <td>CT HEAD ARTERIOGRAM W AND WO IV CONTRAST</td>\n",
              "      <td>70496</td>\n",
              "      <td>**********************************************...</td>\n",
              "      <td>1</td>\n",
              "      <td>NaN</td>\n",
              "      <td>NaN</td>\n",
              "      <td>NaN</td>\n",
              "      <td>NaN</td>\n",
              "      <td>NaN</td>\n",
              "      <td>NaN</td>\n",
              "      <td>NaN</td>\n",
              "      <td>NaN</td>\n",
              "      <td>NaN</td>\n",
              "      <td>not</td>\n",
              "      <td>NaN</td>\n",
              "      <td>NaN</td>\n",
              "      <td>NaN</td>\n",
              "      <td>Emergency</td>\n",
              "      <td>Male</td>\n",
              "      <td>61</td>\n",
              "      <td>LEE, BRYAN</td>\n",
              "      <td>4/24/2019 11:31</td>\n",
              "      <td>NaN</td>\n",
              "      <td>4/24/2019 11:50</td>\n",
              "      <td>NaN</td>\n",
              "      <td>4/24/2019 11:33</td>\n",
              "      <td>NaN</td>\n",
              "      <td>4/24/2019 11:37</td>\n",
              "      <td>NaN</td>\n",
              "      <td>4/24/2019 11:52</td>\n",
              "      <td>NaN</td>\n",
              "      <td>NaN</td>\n",
              "      <td>SANCHEZ-PADILLA, YADIEL</td>\n",
              "      <td>4/24/2019 17:27</td>\n",
              "      <td>...</td>\n",
              "      <td>19</td>\n",
              "      <td>6</td>\n",
              "      <td>21</td>\n",
              "      <td>NaN</td>\n",
              "      <td>356.0</td>\n",
              "      <td>444</td>\n",
              "      <td>NaN</td>\n",
              "      <td>-13</td>\n",
              "      <td>2</td>\n",
              "      <td>NaN</td>\n",
              "      <td>337.0</td>\n",
              "      <td>425</td>\n",
              "      <td>NaN</td>\n",
              "      <td>15</td>\n",
              "      <td>NaN</td>\n",
              "      <td>350.0</td>\n",
              "      <td>438</td>\n",
              "      <td>NaN</td>\n",
              "      <td>NaN</td>\n",
              "      <td>335.0</td>\n",
              "      <td>423</td>\n",
              "      <td>NaN</td>\n",
              "      <td>NaN</td>\n",
              "      <td>NaN</td>\n",
              "      <td>NaN</td>\n",
              "      <td>88.0</td>\n",
              "      <td>NaN</td>\n",
              "      <td>NaN</td>\n",
              "      <td>1.75</td>\n",
              "      <td>8.29</td>\n",
              "      <td>NaN</td>\n",
              "      <td>1.75</td>\n",
              "      <td>2.49</td>\n",
              "      <td>NaN</td>\n",
              "      <td>0</td>\n",
              "      <td>5.8</td>\n",
              "      <td>NaN</td>\n",
              "      <td>10.04</td>\n",
              "      <td>4.24</td>\n",
              "      <td>5.8</td>\n",
              "    </tr>\n",
              "  </tbody>\n",
              "</table>\n",
              "<p>5 rows × 84 columns</p>\n",
              "</div>"
            ],
            "text/plain": [
              "  Organization  ... Total (Technical) (RVU)\n",
              "0         UPHS  ...                     5.8\n",
              "1         UPHS  ...                     5.8\n",
              "2         UPHS  ...                     5.8\n",
              "3         UPHS  ...                     5.8\n",
              "4         UPHS  ...                     5.8\n",
              "\n",
              "[5 rows x 84 columns]"
            ]
          },
          "metadata": {
            "tags": []
          },
          "execution_count": 1450
        }
      ]
    },
    {
      "cell_type": "code",
      "metadata": {
        "colab": {
          "base_uri": "https://localhost:8080/"
        },
        "id": "LV1BzTC508O7",
        "outputId": "d1581105-d841-4cc5-9cdc-b1e5d7bb3ce6"
      },
      "source": [
        "col_list_2 = [\"Accession Number\", \"occlusion or not\", \"pre-op mrs\",\n",
        "            \"post-op mrs\", \"Acute or chronic\", \"Patient Sex\",\n",
        "            \"Patient Age\", \" vessels\", \"pass time\"]\n",
        "print(col_list)"
      ],
      "execution_count": 1451,
      "outputs": [
        {
          "output_type": "stream",
          "text": [
            "['Accession Number', 'occlusion or not', 'prior treatment mRs', 'posttreatment 30 day mRs', 'Acute or chronic', 'Patient Sex', 'Patient Age', ' vessels', 'pass time']\n"
          ],
          "name": "stdout"
        }
      ]
    },
    {
      "cell_type": "code",
      "metadata": {
        "colab": {
          "base_uri": "https://localhost:8080/"
        },
        "id": "H_rQmeQs0lkg",
        "outputId": "70c78f5b-ee71-44ce-eb90-57527396895e"
      },
      "source": [
        "# Show the column names and types\n",
        "print(\"columns:\")\n",
        "test_2018_df.columns"
      ],
      "execution_count": 1452,
      "outputs": [
        {
          "output_type": "stream",
          "text": [
            "columns:\n"
          ],
          "name": "stdout"
        },
        {
          "output_type": "execute_result",
          "data": {
            "text/plain": [
              "Index(['Organization', 'Point of Care', 'Source System', 'Accession Number',\n",
              "       'Modality', 'Exam Code', 'Exam Description', 'CPT Code', 'Report Text',\n",
              "       'Is Stat', 'MRN', 'Unnamed: 11', 'Unnamed: 12',\n",
              "       'Acute or chronic diagnosis of the cause', 'TICI', 'pass time',\n",
              "       'pre-op mrs', 'post-op mrs', 'For the first time after surgery',\n",
              "       'occlusion or not', 'Acute or chronic', ' vessels', 'note',\n",
              "       'Patient Status', 'Patient Sex', 'Patient Age', 'Ordered By',\n",
              "       'Ordered Date', 'Scheduled By', 'Scheduled Date', 'Patient Arrived By',\n",
              "       'Patient Arrived Date', 'Exam Started By', 'Exam Started Date',\n",
              "       'Exam Completed By', 'Exam Completed Date', 'Report Created By',\n",
              "       'Report Created Date', 'Preliminary Report By',\n",
              "       'Preliminary Report Date', 'Report Finalized By',\n",
              "       'Report Finalized Date', 'Report Addendum By', 'Report Addendum Date',\n",
              "       'Ordered to Scheduled (minutes)', 'Ordered to Exam Started (minutes)',\n",
              "       'Ordered to Exam Completed (minutes)',\n",
              "       'Ordered to Report Created (minutes)',\n",
              "       'Ordered to Preliminary Report (minutes)',\n",
              "       'Ordered to Report Finalized (minutes)',\n",
              "       'Ordered to Report Addendum (minutes)',\n",
              "       'Scheduled to Exam Started (minutes)',\n",
              "       'Scheduled to Exam Completed (minutes)',\n",
              "       'Scheduled to Report Created (minutes)',\n",
              "       'Scheduled to Preliminary Report (minutes)',\n",
              "       'Scheduled to Report Finalized (minutes)',\n",
              "       'Scheduled to Report Addendum (minutes)',\n",
              "       'Exam Started to Exam Completed (minutes)',\n",
              "       'Exam Started to Report Created (minutes)',\n",
              "       'Exam Started to Preliminary Report (minutes)',\n",
              "       'Exam Started to Report Finalized (minutes)',\n",
              "       'Exam Started to Report Addendum (minutes)',\n",
              "       'Exam Completed to Report Created (minutes)',\n",
              "       'Exam Completed to Preliminary Report (minutes)',\n",
              "       'Exam Completed to Report Finalized (minutes)',\n",
              "       'Exam Completed to Report Addendum (minutes)',\n",
              "       'Report Created to Preliminary Report (minutes)',\n",
              "       'Report Created to Report Finalized (minutes)',\n",
              "       'Report Created to Report Addendum (minutes)',\n",
              "       'Preliminary Report to Report Finalized (minutes)',\n",
              "       'Preliminary Report to Report Addendum (minutes)',\n",
              "       'Report Finalized to Report Addendum (minutes)', 'Work (RVU)',\n",
              "       'PE (RVU)', 'MP (RVU)', 'Work (Professional) (RVU)',\n",
              "       'PE (Professional) (RVU)', 'MP (Professional) (RVU)',\n",
              "       'Work (Technical) (RVU)', 'PE (Technical) (RVU)',\n",
              "       'MP (Technical) (RVU)', 'Total (RVU)', 'Total (Professional) (RVU)',\n",
              "       'Total (Technical) (RVU)'],\n",
              "      dtype='object')"
            ]
          },
          "metadata": {
            "tags": []
          },
          "execution_count": 1452
        }
      ]
    },
    {
      "cell_type": "code",
      "metadata": {
        "colab": {
          "base_uri": "https://localhost:8080/",
          "height": 204
        },
        "id": "AyA_D2ZO0qgf",
        "outputId": "490ccecb-02a0-4950-9b8a-74339c89f499"
      },
      "source": [
        "# Now lets only keep the columns we need\n",
        "test_2018_selected = test_2018_df[col_list_2]\n",
        "test_2018_selected.head()"
      ],
      "execution_count": 1453,
      "outputs": [
        {
          "output_type": "execute_result",
          "data": {
            "text/html": [
              "<div>\n",
              "<style scoped>\n",
              "    .dataframe tbody tr th:only-of-type {\n",
              "        vertical-align: middle;\n",
              "    }\n",
              "\n",
              "    .dataframe tbody tr th {\n",
              "        vertical-align: top;\n",
              "    }\n",
              "\n",
              "    .dataframe thead th {\n",
              "        text-align: right;\n",
              "    }\n",
              "</style>\n",
              "<table border=\"1\" class=\"dataframe\">\n",
              "  <thead>\n",
              "    <tr style=\"text-align: right;\">\n",
              "      <th></th>\n",
              "      <th>Accession Number</th>\n",
              "      <th>occlusion or not</th>\n",
              "      <th>pre-op mrs</th>\n",
              "      <th>post-op mrs</th>\n",
              "      <th>Acute or chronic</th>\n",
              "      <th>Patient Sex</th>\n",
              "      <th>Patient Age</th>\n",
              "      <th>vessels</th>\n",
              "      <th>pass time</th>\n",
              "    </tr>\n",
              "  </thead>\n",
              "  <tbody>\n",
              "    <tr>\n",
              "      <th>0</th>\n",
              "      <td>32586869</td>\n",
              "      <td>occlusion</td>\n",
              "      <td>3</td>\n",
              "      <td>4</td>\n",
              "      <td>acute</td>\n",
              "      <td>Male</td>\n",
              "      <td>55</td>\n",
              "      <td>M1 segment of the left MCA</td>\n",
              "      <td>2</td>\n",
              "    </tr>\n",
              "    <tr>\n",
              "      <th>1</th>\n",
              "      <td>32361140</td>\n",
              "      <td>not</td>\n",
              "      <td>NaN</td>\n",
              "      <td>NaN</td>\n",
              "      <td>NaN</td>\n",
              "      <td>Female</td>\n",
              "      <td>76</td>\n",
              "      <td>NaN</td>\n",
              "      <td>NaN</td>\n",
              "    </tr>\n",
              "    <tr>\n",
              "      <th>2</th>\n",
              "      <td>32278320</td>\n",
              "      <td>not</td>\n",
              "      <td>NaN</td>\n",
              "      <td>NaN</td>\n",
              "      <td>NaN</td>\n",
              "      <td>Male</td>\n",
              "      <td>85</td>\n",
              "      <td>NaN</td>\n",
              "      <td>NaN</td>\n",
              "    </tr>\n",
              "    <tr>\n",
              "      <th>3</th>\n",
              "      <td>31633318</td>\n",
              "      <td>not</td>\n",
              "      <td>NaN</td>\n",
              "      <td>NaN</td>\n",
              "      <td>NaN</td>\n",
              "      <td>Male</td>\n",
              "      <td>74</td>\n",
              "      <td>NaN</td>\n",
              "      <td>NaN</td>\n",
              "    </tr>\n",
              "    <tr>\n",
              "      <th>4</th>\n",
              "      <td>31607963</td>\n",
              "      <td>not</td>\n",
              "      <td>NaN</td>\n",
              "      <td>NaN</td>\n",
              "      <td>NaN</td>\n",
              "      <td>Male</td>\n",
              "      <td>61</td>\n",
              "      <td>NaN</td>\n",
              "      <td>NaN</td>\n",
              "    </tr>\n",
              "  </tbody>\n",
              "</table>\n",
              "</div>"
            ],
            "text/plain": [
              "   Accession Number occlusion or not  ...                      vessels pass time\n",
              "0          32586869        occlusion  ...   M1 segment of the left MCA         2\n",
              "1          32361140              not  ...                          NaN       NaN\n",
              "2          32278320              not  ...                          NaN       NaN\n",
              "3          31633318              not  ...                          NaN       NaN\n",
              "4          31607963              not  ...                          NaN       NaN\n",
              "\n",
              "[5 rows x 9 columns]"
            ]
          },
          "metadata": {
            "tags": []
          },
          "execution_count": 1453
        }
      ]
    },
    {
      "cell_type": "code",
      "metadata": {
        "id": "grrrrkE21MDs"
      },
      "source": [
        "# Duplicate one column\n",
        "buffer_df = test_2018_selected.copy()\n",
        "buffer_df[\"X_ShamAccessionNumber\"] = test_2018_selected.loc[:, \"Accession Number\"]\n",
        "# Add a column with Nulls\n",
        "test_2018 = buffer_df.assign(Location=np.nan)"
      ],
      "execution_count": 1454,
      "outputs": []
    },
    {
      "cell_type": "code",
      "metadata": {
        "id": "R2kGrd7u3CEi"
      },
      "source": [
        "test_2018 = test_2018.rename(columns={\"Accession Number\" : \"Accession_Number\", \"occlusion or not\" : \"occlusion_or_not\",\n",
        "                            \"pre-op mrs\":\"Old_mRS\", \"post-op mrs\" : \"30_Days_mRs\",\n",
        "                            \"Acute or chronic\":\"Acute_or_chronic\", \"Patient Sex\": \"Patient_Sex\",\n",
        "                            \"Patient Age\" : \"Patient_Age\", \" vessels\" : \"vessels\", \"pass time\" : \"Passes_time\"})"
      ],
      "execution_count": 1455,
      "outputs": []
    },
    {
      "cell_type": "code",
      "metadata": {
        "colab": {
          "base_uri": "https://localhost:8080/",
          "height": 204
        },
        "id": "2R_6EZll1_cu",
        "outputId": "663db351-9f41-4209-e79f-85ba2c380949"
      },
      "source": [
        "test_2018.head()"
      ],
      "execution_count": 1456,
      "outputs": [
        {
          "output_type": "execute_result",
          "data": {
            "text/html": [
              "<div>\n",
              "<style scoped>\n",
              "    .dataframe tbody tr th:only-of-type {\n",
              "        vertical-align: middle;\n",
              "    }\n",
              "\n",
              "    .dataframe tbody tr th {\n",
              "        vertical-align: top;\n",
              "    }\n",
              "\n",
              "    .dataframe thead th {\n",
              "        text-align: right;\n",
              "    }\n",
              "</style>\n",
              "<table border=\"1\" class=\"dataframe\">\n",
              "  <thead>\n",
              "    <tr style=\"text-align: right;\">\n",
              "      <th></th>\n",
              "      <th>Accession_Number</th>\n",
              "      <th>occlusion_or_not</th>\n",
              "      <th>Old_mRS</th>\n",
              "      <th>30_Days_mRs</th>\n",
              "      <th>Acute_or_chronic</th>\n",
              "      <th>Patient_Sex</th>\n",
              "      <th>Patient_Age</th>\n",
              "      <th>vessels</th>\n",
              "      <th>Passes_time</th>\n",
              "      <th>X_ShamAccessionNumber</th>\n",
              "      <th>Location</th>\n",
              "    </tr>\n",
              "  </thead>\n",
              "  <tbody>\n",
              "    <tr>\n",
              "      <th>0</th>\n",
              "      <td>32586869</td>\n",
              "      <td>occlusion</td>\n",
              "      <td>3</td>\n",
              "      <td>4</td>\n",
              "      <td>acute</td>\n",
              "      <td>Male</td>\n",
              "      <td>55</td>\n",
              "      <td>M1 segment of the left MCA</td>\n",
              "      <td>2</td>\n",
              "      <td>32586869</td>\n",
              "      <td>NaN</td>\n",
              "    </tr>\n",
              "    <tr>\n",
              "      <th>1</th>\n",
              "      <td>32361140</td>\n",
              "      <td>not</td>\n",
              "      <td>NaN</td>\n",
              "      <td>NaN</td>\n",
              "      <td>NaN</td>\n",
              "      <td>Female</td>\n",
              "      <td>76</td>\n",
              "      <td>NaN</td>\n",
              "      <td>NaN</td>\n",
              "      <td>32361140</td>\n",
              "      <td>NaN</td>\n",
              "    </tr>\n",
              "    <tr>\n",
              "      <th>2</th>\n",
              "      <td>32278320</td>\n",
              "      <td>not</td>\n",
              "      <td>NaN</td>\n",
              "      <td>NaN</td>\n",
              "      <td>NaN</td>\n",
              "      <td>Male</td>\n",
              "      <td>85</td>\n",
              "      <td>NaN</td>\n",
              "      <td>NaN</td>\n",
              "      <td>32278320</td>\n",
              "      <td>NaN</td>\n",
              "    </tr>\n",
              "    <tr>\n",
              "      <th>3</th>\n",
              "      <td>31633318</td>\n",
              "      <td>not</td>\n",
              "      <td>NaN</td>\n",
              "      <td>NaN</td>\n",
              "      <td>NaN</td>\n",
              "      <td>Male</td>\n",
              "      <td>74</td>\n",
              "      <td>NaN</td>\n",
              "      <td>NaN</td>\n",
              "      <td>31633318</td>\n",
              "      <td>NaN</td>\n",
              "    </tr>\n",
              "    <tr>\n",
              "      <th>4</th>\n",
              "      <td>31607963</td>\n",
              "      <td>not</td>\n",
              "      <td>NaN</td>\n",
              "      <td>NaN</td>\n",
              "      <td>NaN</td>\n",
              "      <td>Male</td>\n",
              "      <td>61</td>\n",
              "      <td>NaN</td>\n",
              "      <td>NaN</td>\n",
              "      <td>31607963</td>\n",
              "      <td>NaN</td>\n",
              "    </tr>\n",
              "  </tbody>\n",
              "</table>\n",
              "</div>"
            ],
            "text/plain": [
              "   Accession_Number occlusion_or_not  ... X_ShamAccessionNumber Location\n",
              "0          32586869        occlusion  ...              32586869      NaN\n",
              "1          32361140              not  ...              32361140      NaN\n",
              "2          32278320              not  ...              32278320      NaN\n",
              "3          31633318              not  ...              31633318      NaN\n",
              "4          31607963              not  ...              31607963      NaN\n",
              "\n",
              "[5 rows x 11 columns]"
            ]
          },
          "metadata": {
            "tags": []
          },
          "execution_count": 1456
        }
      ]
    },
    {
      "cell_type": "code",
      "metadata": {
        "colab": {
          "base_uri": "https://localhost:8080/"
        },
        "id": "yLl9GxCT2aB8",
        "outputId": "8406210f-39f3-4c8d-bd8c-07e690c2f461"
      },
      "source": [
        "# Check if the columns of the test dataframe and the \n",
        "# train dataframe are the same\n",
        "c = list(test_2018.columns)\n",
        "d = list(train_cleaned_df.columns)\n",
        "c.sort()\n",
        "d.sort()\n",
        "c == d"
      ],
      "execution_count": 1457,
      "outputs": [
        {
          "output_type": "execute_result",
          "data": {
            "text/plain": [
              "True"
            ]
          },
          "metadata": {
            "tags": []
          },
          "execution_count": 1457
        }
      ]
    },
    {
      "cell_type": "code",
      "metadata": {
        "id": "5ONRWrqg21Gr"
      },
      "source": [
        "validation_df = pd.concat([test_2016_7, test_2018], ignore_index=True)"
      ],
      "execution_count": 1458,
      "outputs": []
    },
    {
      "cell_type": "code",
      "metadata": {
        "colab": {
          "base_uri": "https://localhost:8080/",
          "height": 204
        },
        "id": "RqazmbEo5HX6",
        "outputId": "d199b52c-a97d-4229-98c5-95c7dcfdbf85"
      },
      "source": [
        "validation_df.head()"
      ],
      "execution_count": 1459,
      "outputs": [
        {
          "output_type": "execute_result",
          "data": {
            "text/html": [
              "<div>\n",
              "<style scoped>\n",
              "    .dataframe tbody tr th:only-of-type {\n",
              "        vertical-align: middle;\n",
              "    }\n",
              "\n",
              "    .dataframe tbody tr th {\n",
              "        vertical-align: top;\n",
              "    }\n",
              "\n",
              "    .dataframe thead th {\n",
              "        text-align: right;\n",
              "    }\n",
              "</style>\n",
              "<table border=\"1\" class=\"dataframe\">\n",
              "  <thead>\n",
              "    <tr style=\"text-align: right;\">\n",
              "      <th></th>\n",
              "      <th>Accession_Number</th>\n",
              "      <th>occlusion_or_not</th>\n",
              "      <th>Old_mRS</th>\n",
              "      <th>30_Days_mRs</th>\n",
              "      <th>Acute_or_chronic</th>\n",
              "      <th>Patient_Sex</th>\n",
              "      <th>Patient_Age</th>\n",
              "      <th>vessels</th>\n",
              "      <th>Passes_time</th>\n",
              "      <th>X_ShamAccessionNumber</th>\n",
              "      <th>Location</th>\n",
              "    </tr>\n",
              "  </thead>\n",
              "  <tbody>\n",
              "    <tr>\n",
              "      <th>0</th>\n",
              "      <td>29245949</td>\n",
              "      <td>occlusion</td>\n",
              "      <td>1</td>\n",
              "      <td>1</td>\n",
              "      <td>chronic</td>\n",
              "      <td>Male</td>\n",
              "      <td>65</td>\n",
              "      <td>left mid M1 branch</td>\n",
              "      <td>NaN</td>\n",
              "      <td>29245949</td>\n",
              "      <td>NaN</td>\n",
              "    </tr>\n",
              "    <tr>\n",
              "      <th>1</th>\n",
              "      <td>28986404</td>\n",
              "      <td>occlusion</td>\n",
              "      <td>2</td>\n",
              "      <td>2</td>\n",
              "      <td>chronic</td>\n",
              "      <td>Male</td>\n",
              "      <td>53</td>\n",
              "      <td>proximal M1 segment of the right MCA</td>\n",
              "      <td>NaN</td>\n",
              "      <td>28986404</td>\n",
              "      <td>NaN</td>\n",
              "    </tr>\n",
              "    <tr>\n",
              "      <th>2</th>\n",
              "      <td>27433774</td>\n",
              "      <td>occlusion</td>\n",
              "      <td>4</td>\n",
              "      <td>5</td>\n",
              "      <td>chronic</td>\n",
              "      <td>Male</td>\n",
              "      <td>73</td>\n",
              "      <td>left M1</td>\n",
              "      <td>NaN</td>\n",
              "      <td>27433774</td>\n",
              "      <td>NaN</td>\n",
              "    </tr>\n",
              "    <tr>\n",
              "      <th>3</th>\n",
              "      <td>29284027</td>\n",
              "      <td>occlusion</td>\n",
              "      <td>2</td>\n",
              "      <td>1</td>\n",
              "      <td>chronic</td>\n",
              "      <td>Female</td>\n",
              "      <td>77</td>\n",
              "      <td>left vertebral artery at its origin</td>\n",
              "      <td>NaN</td>\n",
              "      <td>29284027</td>\n",
              "      <td>NaN</td>\n",
              "    </tr>\n",
              "    <tr>\n",
              "      <th>4</th>\n",
              "      <td>29203810</td>\n",
              "      <td>occlusion</td>\n",
              "      <td>2</td>\n",
              "      <td>1</td>\n",
              "      <td>chronic</td>\n",
              "      <td>Male</td>\n",
              "      <td>92</td>\n",
              "      <td>proximal left M2segment</td>\n",
              "      <td>NaN</td>\n",
              "      <td>29203810</td>\n",
              "      <td>NaN</td>\n",
              "    </tr>\n",
              "  </tbody>\n",
              "</table>\n",
              "</div>"
            ],
            "text/plain": [
              "   Accession_Number occlusion_or_not  ... X_ShamAccessionNumber Location\n",
              "0          29245949        occlusion  ...              29245949      NaN\n",
              "1          28986404        occlusion  ...              28986404      NaN\n",
              "2          27433774        occlusion  ...              27433774      NaN\n",
              "3          29284027        occlusion  ...              29284027      NaN\n",
              "4          29203810        occlusion  ...              29203810      NaN\n",
              "\n",
              "[5 rows x 11 columns]"
            ]
          },
          "metadata": {
            "tags": []
          },
          "execution_count": 1459
        }
      ]
    },
    {
      "cell_type": "code",
      "metadata": {
        "colab": {
          "base_uri": "https://localhost:8080/"
        },
        "id": "1x2XYswF4oUv",
        "outputId": "db4cb055-b8b8-41d6-ed4c-71a9d07a0126"
      },
      "source": [
        "count = 0\n",
        "for i in list(validation_df.index.duplicated()):\n",
        "  if i == True:\n",
        "    count +=1\n",
        "print(count)"
      ],
      "execution_count": 1460,
      "outputs": [
        {
          "output_type": "stream",
          "text": [
            "0\n"
          ],
          "name": "stdout"
        }
      ]
    },
    {
      "cell_type": "code",
      "metadata": {
        "colab": {
          "base_uri": "https://localhost:8080/"
        },
        "id": "xQAK78Tw58p5",
        "outputId": "b4817b49-b8d8-468a-ce17-095fd2e0bc06"
      },
      "source": [
        "validation_df.shape[0]"
      ],
      "execution_count": 1461,
      "outputs": [
        {
          "output_type": "execute_result",
          "data": {
            "text/plain": [
              "3009"
            ]
          },
          "metadata": {
            "tags": []
          },
          "execution_count": 1461
        }
      ]
    },
    {
      "cell_type": "code",
      "metadata": {
        "colab": {
          "base_uri": "https://localhost:8080/"
        },
        "id": "rtQRs54W6RjG",
        "outputId": "945c6056-35ae-4808-bd93-ba565a93f246"
      },
      "source": [
        "validation_df = validation_df[validation_df[\"30_Days_mRs\"].notna()]\n",
        "validation_df = validation_df[validation_df[\"Old_mRS\"].notna()]\n",
        "print(\"The number of observations of the validation data is:\")\n",
        "validation_df.shape[0]"
      ],
      "execution_count": 1462,
      "outputs": [
        {
          "output_type": "stream",
          "text": [
            "The number of observations of the validation data is:\n"
          ],
          "name": "stdout"
        },
        {
          "output_type": "execute_result",
          "data": {
            "text/plain": [
              "742"
            ]
          },
          "metadata": {
            "tags": []
          },
          "execution_count": 1462
        }
      ]
    },
    {
      "cell_type": "code",
      "metadata": {
        "colab": {
          "base_uri": "https://localhost:8080/"
        },
        "id": "byWVzwji7auN",
        "outputId": "3e0d7b9d-d81f-4ac5-eb73-8dd6be30e09a"
      },
      "source": [
        "print(\"The number of different Old Status\")\n",
        "print(validation_df[\"Old_mRS\"].value_counts())"
      ],
      "execution_count": 1463,
      "outputs": [
        {
          "output_type": "stream",
          "text": [
            "The number of different Old Status\n",
            "3          183\n",
            "4          147\n",
            "2          146\n",
            "1          109\n",
            "5           99\n",
            "0           50\n",
            "unknown      6\n",
            "/            2\n",
            "Name: Old_mRS, dtype: int64\n"
          ],
          "name": "stdout"
        }
      ]
    },
    {
      "cell_type": "code",
      "metadata": {
        "id": "ifR7pU3F79sh"
      },
      "source": [
        "validation_df = validation_df[(validation_df[\"Old_mRS\"] != \"unknown\") & (validation_df[\"Old_mRS\"] != \"/\")]"
      ],
      "execution_count": 1464,
      "outputs": []
    },
    {
      "cell_type": "code",
      "metadata": {
        "colab": {
          "base_uri": "https://localhost:8080/",
          "height": 302
        },
        "id": "M6XXj13L77hG",
        "outputId": "7e76583a-999a-4635-eed4-2c48e2c58aa8"
      },
      "source": [
        "# Print the histogram of the old_status\n",
        "import seaborn as sns\n",
        "sns.set_theme(style=\"darkgrid\")\n",
        "sns.countplot(data=validation_df, x=\"Old_mRS\")"
      ],
      "execution_count": 1465,
      "outputs": [
        {
          "output_type": "execute_result",
          "data": {
            "text/plain": [
              "<matplotlib.axes._subplots.AxesSubplot at 0x7fa010102950>"
            ]
          },
          "metadata": {
            "tags": []
          },
          "execution_count": 1465
        },
        {
          "output_type": "display_data",
          "data": {
            "image/png": "[encoded data removed]",
            "text/plain": [
              "<Figure size 432x288 with 1 Axes>"
            ]
          },
          "metadata": {
            "tags": []
          }
        }
      ]
    },
    {
      "cell_type": "code",
      "metadata": {
        "colab": {
          "base_uri": "https://localhost:8080/"
        },
        "id": "BChURSHm3vkp",
        "outputId": "d1c2bd5d-b03b-4fff-d4dd-233b3f8dfeaf"
      },
      "source": [
        "# Make sure that there is no dulicate index\n",
        "count = 0\n",
        "for i in list(validation_df.index.duplicated()):\n",
        "  if i == True:\n",
        "    count +=1\n",
        "print(count)"
      ],
      "execution_count": 1466,
      "outputs": [
        {
          "output_type": "stream",
          "text": [
            "0\n"
          ],
          "name": "stdout"
        }
      ]
    },
    {
      "cell_type": "code",
      "metadata": {
        "colab": {
          "base_uri": "https://localhost:8080/"
        },
        "id": "oP_ZblWR8899",
        "outputId": "4c4e4adb-e83a-4eb4-b0c0-24b79c1e772d"
      },
      "source": [
        "print(\"The number of different New Status\")\n",
        "print(validation_df[\"30_Days_mRs\"].value_counts())"
      ],
      "execution_count": 1467,
      "outputs": [
        {
          "output_type": "stream",
          "text": [
            "The number of different New Status\n",
            "0           226\n",
            "1           157\n",
            "6           105\n",
            "3            68\n",
            "4            63\n",
            "2            52\n",
            "6（death）     22\n",
            "5            17\n",
            "3（好转）         7\n",
            "4（好转）         4\n",
            "/             3\n",
            "4（复发）         2\n",
            "1（好转）         2\n",
            "0?            2\n",
            "unknown       2\n",
            "1（复发）         1\n",
            "2（好转）         1\n",
            "Name: 30_Days_mRs, dtype: int64\n"
          ],
          "name": "stdout"
        }
      ]
    },
    {
      "cell_type": "code",
      "metadata": {
        "colab": {
          "base_uri": "https://localhost:8080/"
        },
        "id": "DK-3C07Vtubb",
        "outputId": "f4549f2e-17a7-4753-ec17-5d0b921a3965"
      },
      "source": [
        "validation_df.shape[0]"
      ],
      "execution_count": 1468,
      "outputs": [
        {
          "output_type": "execute_result",
          "data": {
            "text/plain": [
              "734"
            ]
          },
          "metadata": {
            "tags": []
          },
          "execution_count": 1468
        }
      ]
    },
    {
      "cell_type": "code",
      "metadata": {
        "colab": {
          "base_uri": "https://localhost:8080/"
        },
        "id": "lSXkRS-9t5az",
        "outputId": "ff93cacb-3ba8-4329-95d8-7a123f12e49f"
      },
      "source": [
        "validation_df.dtypes"
      ],
      "execution_count": 1469,
      "outputs": [
        {
          "output_type": "execute_result",
          "data": {
            "text/plain": [
              "Accession_Number           int64\n",
              "occlusion_or_not          object\n",
              "Old_mRS                   object\n",
              "30_Days_mRs               object\n",
              "Acute_or_chronic          object\n",
              "Patient_Sex               object\n",
              "Patient_Age                int64\n",
              "vessels                   object\n",
              "Passes_time               object\n",
              "X_ShamAccessionNumber      int64\n",
              "Location                 float64\n",
              "dtype: object"
            ]
          },
          "metadata": {
            "tags": []
          },
          "execution_count": 1469
        }
      ]
    },
    {
      "cell_type": "code",
      "metadata": {
        "id": "sYk12RS9yjDG"
      },
      "source": [
        "def Diff(li1, li2):\n",
        "    return list(set(li1) - set(li2)) + list(set(li2) - set(li1))"
      ],
      "execution_count": 1470,
      "outputs": []
    },
    {
      "cell_type": "code",
      "metadata": {
        "id": "oeUsquoT--Nc"
      },
      "source": [
        "for i in validation_df.index[validation_df['30_Days_mRs'] == \"6（death）\"].tolist():\n",
        "  validation_df.at[i, \"30_Days_mRs\"] = \"6\"\n",
        "\n",
        "# print(validation_df.index[validation_df['30_Days_mRs'] == \"1\"])\n",
        "list2 = list(validation_df.index[validation_df['30_Days_mRs'] == \"1\"])\n",
        "# print(list2)\n",
        "# print(Diff(list1, list2))\n",
        "# print(validation_df.iloc[74])\n",
        "\n",
        "for i in validation_df.index[validation_df['30_Days_mRs'] == \"3（好转）\"].tolist():\n",
        "  validation_df.at[i, \"30_Days_mRs\"] = \"3\"\n",
        "\n",
        "# print(validation_df.index[validation_df['30_Days_mRs'] == \"1\"])\n",
        "\n",
        "for i in validation_df.index[(validation_df['30_Days_mRs'] == \"4（复发）\") | (validation_df['30_Days_mRs'] == \"4（好转）\")].tolist():\n",
        "  validation_df.at[i, \"30_Days_mRs\"] = \"4\"\n",
        "\n",
        "# print(validation_df.index[validation_df['30_Days_mRs'] == \"1\"])\n",
        "\n",
        "for i in validation_df.index[(validation_df['30_Days_mRs'] == \"1（复发）\") | (validation_df['30_Days_mRs'] == \"1（好转）\")].tolist():\n",
        "  validation_df.at[i, \"30_Days_mRs\"] = \"1\"\n",
        "\n",
        "# print(validation_df.index[validation_df['30_Days_mRs'] == \"1\"])\n",
        "\n",
        "for i in validation_df.index[validation_df['30_Days_mRs'] == \"2（好转）\"].tolist():\n",
        "  validation_df.at[i, \"30_Days_mRs\"] = \"2\"\n",
        "\n",
        "# print(validation_df.index[validation_df['30_Days_mRs'] == \"1\"])"
      ],
      "execution_count": 1471,
      "outputs": []
    },
    {
      "cell_type": "code",
      "metadata": {
        "id": "lM6tFVZ4A5kr"
      },
      "source": [
        "validation_df = validation_df[(validation_df[\"30_Days_mRs\"] != \"unknown\") & (validation_df[\"30_Days_mRs\"] != \"/\") & (validation_df[\"30_Days_mRs\"] != \"0?\")]"
      ],
      "execution_count": 1472,
      "outputs": []
    },
    {
      "cell_type": "code",
      "metadata": {
        "colab": {
          "base_uri": "https://localhost:8080/"
        },
        "id": "uGjSHcgYAJu3",
        "outputId": "14cf8878-16a8-49cd-90bd-3934ee401e50"
      },
      "source": [
        "print(\"The number of different New Status\")\n",
        "print(validation_df[\"30_Days_mRs\"].value_counts())"
      ],
      "execution_count": 1473,
      "outputs": [
        {
          "output_type": "stream",
          "text": [
            "The number of different New Status\n",
            "0    226\n",
            "1    160\n",
            "6    127\n",
            "3     75\n",
            "4     69\n",
            "2     53\n",
            "5     17\n",
            "Name: 30_Days_mRs, dtype: int64\n"
          ],
          "name": "stdout"
        }
      ]
    },
    {
      "cell_type": "code",
      "metadata": {
        "colab": {
          "base_uri": "https://localhost:8080/"
        },
        "id": "7gIq97SGuSJ7",
        "outputId": "f267393d-bdc4-45a7-952c-a21c4b5621b0"
      },
      "source": [
        "validation_df.shape[0]"
      ],
      "execution_count": 1474,
      "outputs": [
        {
          "output_type": "execute_result",
          "data": {
            "text/plain": [
              "727"
            ]
          },
          "metadata": {
            "tags": []
          },
          "execution_count": 1474
        }
      ]
    },
    {
      "cell_type": "code",
      "metadata": {
        "id": "o0MXB19IraVx"
      },
      "source": [
        "validation_df[\"30_Days_mRs\"] = pd.to_numeric(validation_df[\"30_Days_mRs\"])\n",
        "validation_df[\"Old_mRS\"] = pd.to_numeric(validation_df[\"Old_mRS\"])"
      ],
      "execution_count": 1475,
      "outputs": []
    },
    {
      "cell_type": "code",
      "metadata": {
        "colab": {
          "base_uri": "https://localhost:8080/"
        },
        "id": "Lj_k46NurnKP",
        "outputId": "db3fea4f-052f-4e91-91dc-382d03398356"
      },
      "source": [
        "print(\"The number of different New Status\")\n",
        "print(validation_df[\"30_Days_mRs\"].value_counts())"
      ],
      "execution_count": 1476,
      "outputs": [
        {
          "output_type": "stream",
          "text": [
            "The number of different New Status\n",
            "0    226\n",
            "1    160\n",
            "6    127\n",
            "3     75\n",
            "4     69\n",
            "2     53\n",
            "5     17\n",
            "Name: 30_Days_mRs, dtype: int64\n"
          ],
          "name": "stdout"
        }
      ]
    },
    {
      "cell_type": "code",
      "metadata": {
        "colab": {
          "base_uri": "https://localhost:8080/"
        },
        "id": "Q-uuMkFZ59Jq",
        "outputId": "5807e753-9ef7-4781-9d2b-7665feb1fe0d"
      },
      "source": [
        "validation_df.dtypes"
      ],
      "execution_count": 1477,
      "outputs": [
        {
          "output_type": "execute_result",
          "data": {
            "text/plain": [
              "Accession_Number           int64\n",
              "occlusion_or_not          object\n",
              "Old_mRS                    int64\n",
              "30_Days_mRs                int64\n",
              "Acute_or_chronic          object\n",
              "Patient_Sex               object\n",
              "Patient_Age                int64\n",
              "vessels                   object\n",
              "Passes_time               object\n",
              "X_ShamAccessionNumber      int64\n",
              "Location                 float64\n",
              "dtype: object"
            ]
          },
          "metadata": {
            "tags": []
          },
          "execution_count": 1477
        }
      ]
    },
    {
      "cell_type": "code",
      "metadata": {
        "colab": {
          "base_uri": "https://localhost:8080/",
          "height": 302
        },
        "id": "R3Qup-Ah_Vv-",
        "outputId": "368e89a9-f1a1-44af-d321-186d74f6b0b6"
      },
      "source": [
        "# Print the histogram of the new_status\n",
        "sns.countplot(data=validation_df, x=\"30_Days_mRs\")"
      ],
      "execution_count": 1478,
      "outputs": [
        {
          "output_type": "execute_result",
          "data": {
            "text/plain": [
              "<matplotlib.axes._subplots.AxesSubplot at 0x7fa011bf4c90>"
            ]
          },
          "metadata": {
            "tags": []
          },
          "execution_count": 1478
        },
        {
          "output_type": "display_data",
          "data": {
            "image/png": "[encoded data removed]",
            "text/plain": [
              "<Figure size 432x288 with 1 Axes>"
            ]
          },
          "metadata": {
            "tags": []
          }
        }
      ]
    },
    {
      "cell_type": "code",
      "metadata": {
        "colab": {
          "base_uri": "https://localhost:8080/"
        },
        "id": "WLfsttVEBQoV",
        "outputId": "8165403f-123d-4531-cd32-d7d70ede1b69"
      },
      "source": [
        "validation_df.shape[0]"
      ],
      "execution_count": 1479,
      "outputs": [
        {
          "output_type": "execute_result",
          "data": {
            "text/plain": [
              "727"
            ]
          },
          "metadata": {
            "tags": []
          },
          "execution_count": 1479
        }
      ]
    },
    {
      "cell_type": "code",
      "metadata": {
        "id": "aNCxmFS_Babh"
      },
      "source": [
        "# Save as csv\n",
        "validation_df.to_csv(\"external_validation_cleaned.csv\", index_label=False)"
      ],
      "execution_count": 1480,
      "outputs": []
    },
    {
      "cell_type": "code",
      "metadata": {
        "id": "hsQmLy1skGCd"
      },
      "source": [
        "validation_df = pd.read_csv(\"/content/external_validation_cleaned.csv\")"
      ],
      "execution_count": 1481,
      "outputs": []
    },
    {
      "cell_type": "code",
      "metadata": {
        "colab": {
          "base_uri": "https://localhost:8080/",
          "height": 419
        },
        "id": "Q2Jtf6W6kQ7e",
        "outputId": "6dadb4d3-4d63-483b-cfbd-d204cb66ed9e"
      },
      "source": [
        "validation_df"
      ],
      "execution_count": 1482,
      "outputs": [
        {
          "output_type": "execute_result",
          "data": {
            "text/html": [
              "<div>\n",
              "<style scoped>\n",
              "    .dataframe tbody tr th:only-of-type {\n",
              "        vertical-align: middle;\n",
              "    }\n",
              "\n",
              "    .dataframe tbody tr th {\n",
              "        vertical-align: top;\n",
              "    }\n",
              "\n",
              "    .dataframe thead th {\n",
              "        text-align: right;\n",
              "    }\n",
              "</style>\n",
              "<table border=\"1\" class=\"dataframe\">\n",
              "  <thead>\n",
              "    <tr style=\"text-align: right;\">\n",
              "      <th></th>\n",
              "      <th>Accession_Number</th>\n",
              "      <th>occlusion_or_not</th>\n",
              "      <th>Old_mRS</th>\n",
              "      <th>30_Days_mRs</th>\n",
              "      <th>Acute_or_chronic</th>\n",
              "      <th>Patient_Sex</th>\n",
              "      <th>Patient_Age</th>\n",
              "      <th>vessels</th>\n",
              "      <th>Passes_time</th>\n",
              "      <th>X_ShamAccessionNumber</th>\n",
              "      <th>Location</th>\n",
              "    </tr>\n",
              "  </thead>\n",
              "  <tbody>\n",
              "    <tr>\n",
              "      <th>0</th>\n",
              "      <td>29245949</td>\n",
              "      <td>occlusion</td>\n",
              "      <td>1</td>\n",
              "      <td>1</td>\n",
              "      <td>chronic</td>\n",
              "      <td>Male</td>\n",
              "      <td>65</td>\n",
              "      <td>left mid M1 branch</td>\n",
              "      <td>NaN</td>\n",
              "      <td>29245949</td>\n",
              "      <td>NaN</td>\n",
              "    </tr>\n",
              "    <tr>\n",
              "      <th>1</th>\n",
              "      <td>28986404</td>\n",
              "      <td>occlusion</td>\n",
              "      <td>2</td>\n",
              "      <td>2</td>\n",
              "      <td>chronic</td>\n",
              "      <td>Male</td>\n",
              "      <td>53</td>\n",
              "      <td>proximal M1 segment of the right MCA</td>\n",
              "      <td>NaN</td>\n",
              "      <td>28986404</td>\n",
              "      <td>NaN</td>\n",
              "    </tr>\n",
              "    <tr>\n",
              "      <th>2</th>\n",
              "      <td>27433774</td>\n",
              "      <td>occlusion</td>\n",
              "      <td>4</td>\n",
              "      <td>5</td>\n",
              "      <td>chronic</td>\n",
              "      <td>Male</td>\n",
              "      <td>73</td>\n",
              "      <td>left M1</td>\n",
              "      <td>NaN</td>\n",
              "      <td>27433774</td>\n",
              "      <td>NaN</td>\n",
              "    </tr>\n",
              "    <tr>\n",
              "      <th>3</th>\n",
              "      <td>29284027</td>\n",
              "      <td>occlusion</td>\n",
              "      <td>2</td>\n",
              "      <td>1</td>\n",
              "      <td>chronic</td>\n",
              "      <td>Female</td>\n",
              "      <td>77</td>\n",
              "      <td>left vertebral artery at its origin</td>\n",
              "      <td>NaN</td>\n",
              "      <td>29284027</td>\n",
              "      <td>NaN</td>\n",
              "    </tr>\n",
              "    <tr>\n",
              "      <th>4</th>\n",
              "      <td>29203810</td>\n",
              "      <td>occlusion</td>\n",
              "      <td>2</td>\n",
              "      <td>1</td>\n",
              "      <td>chronic</td>\n",
              "      <td>Male</td>\n",
              "      <td>92</td>\n",
              "      <td>proximal left M2segment</td>\n",
              "      <td>NaN</td>\n",
              "      <td>29203810</td>\n",
              "      <td>NaN</td>\n",
              "    </tr>\n",
              "    <tr>\n",
              "      <th>...</th>\n",
              "      <td>...</td>\n",
              "      <td>...</td>\n",
              "      <td>...</td>\n",
              "      <td>...</td>\n",
              "      <td>...</td>\n",
              "      <td>...</td>\n",
              "      <td>...</td>\n",
              "      <td>...</td>\n",
              "      <td>...</td>\n",
              "      <td>...</td>\n",
              "      <td>...</td>\n",
              "    </tr>\n",
              "    <tr>\n",
              "      <th>2979</th>\n",
              "      <td>29588050</td>\n",
              "      <td>occlusion</td>\n",
              "      <td>2</td>\n",
              "      <td>1</td>\n",
              "      <td>chronic</td>\n",
              "      <td>Male</td>\n",
              "      <td>71</td>\n",
              "      <td>distal M4 branch</td>\n",
              "      <td>NaN</td>\n",
              "      <td>29588050</td>\n",
              "      <td>NaN</td>\n",
              "    </tr>\n",
              "    <tr>\n",
              "      <th>2986</th>\n",
              "      <td>29560819</td>\n",
              "      <td>occlusion</td>\n",
              "      <td>3</td>\n",
              "      <td>3</td>\n",
              "      <td>acute</td>\n",
              "      <td>Male</td>\n",
              "      <td>63</td>\n",
              "      <td>left M2 inferior-posterior division branch</td>\n",
              "      <td>NaN</td>\n",
              "      <td>29560819</td>\n",
              "      <td>NaN</td>\n",
              "    </tr>\n",
              "    <tr>\n",
              "      <th>2987</th>\n",
              "      <td>29558031</td>\n",
              "      <td>occlusion</td>\n",
              "      <td>3</td>\n",
              "      <td>0</td>\n",
              "      <td>chronic</td>\n",
              "      <td>Female</td>\n",
              "      <td>72</td>\n",
              "      <td>Left internal carotid artery and  left vertebr...</td>\n",
              "      <td>NaN</td>\n",
              "      <td>29558031</td>\n",
              "      <td>NaN</td>\n",
              "    </tr>\n",
              "    <tr>\n",
              "      <th>2991</th>\n",
              "      <td>29545933</td>\n",
              "      <td>occlusion</td>\n",
              "      <td>3</td>\n",
              "      <td>3</td>\n",
              "      <td>chronic</td>\n",
              "      <td>Male</td>\n",
              "      <td>72</td>\n",
              "      <td>bilateral V4 segments and proximal basilar</td>\n",
              "      <td>NaN</td>\n",
              "      <td>29545933</td>\n",
              "      <td>NaN</td>\n",
              "    </tr>\n",
              "    <tr>\n",
              "      <th>2999</th>\n",
              "      <td>29431908</td>\n",
              "      <td>occlusion</td>\n",
              "      <td>3</td>\n",
              "      <td>3</td>\n",
              "      <td>chronic</td>\n",
              "      <td>Female</td>\n",
              "      <td>94</td>\n",
              "      <td>left inferior M2 segment of the middle cerebra...</td>\n",
              "      <td>NaN</td>\n",
              "      <td>29431908</td>\n",
              "      <td>NaN</td>\n",
              "    </tr>\n",
              "  </tbody>\n",
              "</table>\n",
              "<p>727 rows × 11 columns</p>\n",
              "</div>"
            ],
            "text/plain": [
              "      Accession_Number occlusion_or_not  ...  X_ShamAccessionNumber  Location\n",
              "0             29245949        occlusion  ...               29245949       NaN\n",
              "1             28986404        occlusion  ...               28986404       NaN\n",
              "2             27433774        occlusion  ...               27433774       NaN\n",
              "3             29284027        occlusion  ...               29284027       NaN\n",
              "4             29203810        occlusion  ...               29203810       NaN\n",
              "...                ...              ...  ...                    ...       ...\n",
              "2979          29588050        occlusion  ...               29588050       NaN\n",
              "2986          29560819        occlusion  ...               29560819       NaN\n",
              "2987          29558031        occlusion  ...               29558031       NaN\n",
              "2991          29545933        occlusion  ...               29545933       NaN\n",
              "2999          29431908        occlusion  ...               29431908       NaN\n",
              "\n",
              "[727 rows x 11 columns]"
            ]
          },
          "metadata": {
            "tags": []
          },
          "execution_count": 1482
        }
      ]
    }
  ]
}